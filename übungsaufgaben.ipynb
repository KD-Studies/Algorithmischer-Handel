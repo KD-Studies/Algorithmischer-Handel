{
 "cells": [
  {
   "cell_type": "code",
   "execution_count": 5,
   "id": "6dba1a8f-7284-4da0-9a85-def08c821f3a",
   "metadata": {},
   "outputs": [
    {
     "name": "stdout",
     "output_type": "stream",
     "text": [
      "Collecting matplotlibNote: you may need to restart the kernel to use updated packages.\n"
     ]
    },
    {
     "name": "stderr",
     "output_type": "stream",
     "text": [
      "\n",
      "[notice] A new release of pip is available: 24.1 -> 24.1.1\n",
      "[notice] To update, run: python.exe -m pip install --upgrade pip\n"
     ]
    },
    {
     "name": "stdout",
     "output_type": "stream",
     "text": [
      "\n",
      "  Downloading matplotlib-3.9.1-cp312-cp312-win_amd64.whl.metadata (11 kB)\n",
      "Collecting contourpy>=1.0.1 (from matplotlib)\n",
      "  Downloading contourpy-1.2.1-cp312-cp312-win_amd64.whl.metadata (5.8 kB)\n",
      "Collecting cycler>=0.10 (from matplotlib)\n",
      "  Downloading cycler-0.12.1-py3-none-any.whl.metadata (3.8 kB)\n",
      "Collecting fonttools>=4.22.0 (from matplotlib)\n",
      "  Downloading fonttools-4.53.1-cp312-cp312-win_amd64.whl.metadata (165 kB)\n",
      "     ---------------------------------------- 0.0/165.9 kB ? eta -:--:--\n",
      "     -------------------------------------  163.8/165.9 kB 5.0 MB/s eta 0:00:01\n",
      "     -------------------------------------  163.8/165.9 kB 5.0 MB/s eta 0:00:01\n",
      "     -------------------------------------- 165.9/165.9 kB 2.0 MB/s eta 0:00:00\n",
      "Collecting kiwisolver>=1.3.1 (from matplotlib)\n",
      "  Downloading kiwisolver-1.4.5-cp312-cp312-win_amd64.whl.metadata (6.5 kB)\n",
      "Requirement already satisfied: numpy>=1.23 in c:\\users\\kdarcan\\documents\\github\\algorithmischer-handel\\venv\\lib\\site-packages (from matplotlib) (2.0.0)\n",
      "Requirement already satisfied: packaging>=20.0 in c:\\users\\kdarcan\\documents\\github\\algorithmischer-handel\\venv\\lib\\site-packages (from matplotlib) (24.1)\n",
      "Collecting pillow>=8 (from matplotlib)\n",
      "  Downloading pillow-10.4.0-cp312-cp312-win_amd64.whl.metadata (9.3 kB)\n",
      "Collecting pyparsing>=2.3.1 (from matplotlib)\n",
      "  Downloading pyparsing-3.1.2-py3-none-any.whl.metadata (5.1 kB)\n",
      "Requirement already satisfied: python-dateutil>=2.7 in c:\\users\\kdarcan\\documents\\github\\algorithmischer-handel\\venv\\lib\\site-packages (from matplotlib) (2.9.0.post0)\n",
      "Requirement already satisfied: six>=1.5 in c:\\users\\kdarcan\\documents\\github\\algorithmischer-handel\\venv\\lib\\site-packages (from python-dateutil>=2.7->matplotlib) (1.16.0)\n",
      "Downloading matplotlib-3.9.1-cp312-cp312-win_amd64.whl (8.0 MB)\n",
      "   ---------------------------------------- 0.0/8.0 MB ? eta -:--:--\n",
      "   ---- ----------------------------------- 0.9/8.0 MB 18.5 MB/s eta 0:00:01\n",
      "   -------- ------------------------------- 1.7/8.0 MB 21.1 MB/s eta 0:00:01\n",
      "   ---------- ----------------------------- 2.2/8.0 MB 19.6 MB/s eta 0:00:01\n",
      "   --------------- ------------------------ 3.1/8.0 MB 17.9 MB/s eta 0:00:01\n",
      "   --------------------- ------------------ 4.2/8.0 MB 19.2 MB/s eta 0:00:01\n",
      "   ------------------------- -------------- 5.0/8.0 MB 19.0 MB/s eta 0:00:01\n",
      "   ---------------------------- ----------- 5.6/8.0 MB 18.0 MB/s eta 0:00:01\n",
      "   ------------------------------- -------- 6.4/8.0 MB 18.5 MB/s eta 0:00:01\n",
      "   ----------------------------------- ---- 7.1/8.0 MB 18.9 MB/s eta 0:00:01\n",
      "   ---------------------------------------  7.8/8.0 MB 18.5 MB/s eta 0:00:01\n",
      "   ---------------------------------------  8.0/8.0 MB 18.2 MB/s eta 0:00:01\n",
      "   ---------------------------------------  8.0/8.0 MB 18.2 MB/s eta 0:00:01\n",
      "   ---------------------------------------  8.0/8.0 MB 18.2 MB/s eta 0:00:01\n",
      "   ---------------------------------------  8.0/8.0 MB 18.2 MB/s eta 0:00:01\n",
      "   ---------------------------------------  8.0/8.0 MB 18.2 MB/s eta 0:00:01\n",
      "   ---------------------------------------  8.0/8.0 MB 18.2 MB/s eta 0:00:01\n",
      "   ---------------------------------------  8.0/8.0 MB 18.2 MB/s eta 0:00:01\n",
      "   ---------------------------------------  8.0/8.0 MB 18.2 MB/s eta 0:00:01\n",
      "   ---------------------------------------  8.0/8.0 MB 18.2 MB/s eta 0:00:01\n",
      "   ---------------------------------------  8.0/8.0 MB 18.2 MB/s eta 0:00:01\n",
      "   ---------------------------------------  8.0/8.0 MB 18.2 MB/s eta 0:00:01\n",
      "   ---------------------------------------  8.0/8.0 MB 18.2 MB/s eta 0:00:01\n",
      "   ---------------------------------------  8.0/8.0 MB 18.2 MB/s eta 0:00:01\n",
      "   ---------------------------------------  8.0/8.0 MB 18.2 MB/s eta 0:00:01\n",
      "   ---------------------------------------  8.0/8.0 MB 18.2 MB/s eta 0:00:01\n",
      "   ---------------------------------------  8.0/8.0 MB 18.2 MB/s eta 0:00:01\n",
      "   ---------------------------------------  8.0/8.0 MB 18.2 MB/s eta 0:00:01\n",
      "   ---------------------------------------  8.0/8.0 MB 18.2 MB/s eta 0:00:01\n",
      "   ---------------------------------------  8.0/8.0 MB 18.2 MB/s eta 0:00:01\n",
      "   ---------------------------------------  8.0/8.0 MB 18.2 MB/s eta 0:00:01\n",
      "   ---------------------------------------  8.0/8.0 MB 18.2 MB/s eta 0:00:01\n",
      "   ---------------------------------------  8.0/8.0 MB 18.2 MB/s eta 0:00:01\n",
      "   ---------------------------------------  8.0/8.0 MB 18.2 MB/s eta 0:00:01\n",
      "   ---------------------------------------  8.0/8.0 MB 18.2 MB/s eta 0:00:01\n",
      "   ---------------------------------------  8.0/8.0 MB 18.2 MB/s eta 0:00:01\n",
      "   ---------------------------------------  8.0/8.0 MB 18.2 MB/s eta 0:00:01\n",
      "   ---------------------------------------  8.0/8.0 MB 18.2 MB/s eta 0:00:01\n",
      "   ---------------------------------------  8.0/8.0 MB 18.2 MB/s eta 0:00:01\n",
      "   ---------------------------------------  8.0/8.0 MB 18.2 MB/s eta 0:00:01\n",
      "   ---------------------------------------  8.0/8.0 MB 18.2 MB/s eta 0:00:01\n",
      "   ---------------------------------------  8.0/8.0 MB 18.2 MB/s eta 0:00:01\n",
      "   ---------------------------------------  8.0/8.0 MB 18.2 MB/s eta 0:00:01\n",
      "   ---------------------------------------  8.0/8.0 MB 18.2 MB/s eta 0:00:01\n",
      "   ---------------------------------------  8.0/8.0 MB 18.2 MB/s eta 0:00:01\n",
      "   ---------------------------------------  8.0/8.0 MB 18.2 MB/s eta 0:00:01\n",
      "   ---------------------------------------  8.0/8.0 MB 18.2 MB/s eta 0:00:01\n",
      "   ---------------------------------------- 8.0/8.0 MB 3.9 MB/s eta 0:00:00\n",
      "Downloading contourpy-1.2.1-cp312-cp312-win_amd64.whl (189 kB)\n",
      "   ---------------------------------------- 0.0/189.9 kB ? eta -:--:--\n",
      "   -------------------------------------- - 184.3/189.9 kB ? eta -:--:--\n",
      "   -------------------------------------- - 184.3/189.9 kB ? eta -:--:--\n",
      "   -------------------------------------- - 184.3/189.9 kB ? eta -:--:--\n",
      "   ---------------------------------------- 189.9/189.9 kB 1.3 MB/s eta 0:00:00\n",
      "Downloading cycler-0.12.1-py3-none-any.whl (8.3 kB)\n",
      "Downloading fonttools-4.53.1-cp312-cp312-win_amd64.whl (2.2 MB)\n",
      "   ---------------------------------------- 0.0/2.2 MB ? eta -:--:--\n",
      "   -------------- ------------------------- 0.8/2.2 MB 25.1 MB/s eta 0:00:01\n",
      "   ------------------ --------------------- 1.0/2.2 MB 12.6 MB/s eta 0:00:01\n",
      "   ---------------------------------------  2.2/2.2 MB 20.0 MB/s eta 0:00:01\n",
      "   ---------------------------------------  2.2/2.2 MB 20.0 MB/s eta 0:00:01\n",
      "   ---------------------------------------- 2.2/2.2 MB 10.8 MB/s eta 0:00:00\n",
      "Downloading kiwisolver-1.4.5-cp312-cp312-win_amd64.whl (56 kB)\n",
      "   ---------------------------------------- 0.0/56.0 kB ? eta -:--:--\n",
      "   ------------------------------------ --- 51.2/56.0 kB ? eta -:--:--\n",
      "   ------------------------------------ --- 51.2/56.0 kB ? eta -:--:--\n",
      "   ---------------------------------------- 56.0/56.0 kB 486.9 kB/s eta 0:00:00\n",
      "Downloading pillow-10.4.0-cp312-cp312-win_amd64.whl (2.6 MB)\n",
      "   ---------------------------------------- 0.0/2.6 MB ? eta -:--:--\n",
      "   ------------ --------------------------- 0.8/2.6 MB 17.2 MB/s eta 0:00:01\n",
      "   ----------------------- ---------------- 1.5/2.6 MB 19.4 MB/s eta 0:00:01\n",
      "   ----------------------------------- ---- 2.3/2.6 MB 18.2 MB/s eta 0:00:01\n",
      "   ---------------------------------------  2.5/2.6 MB 18.0 MB/s eta 0:00:01\n",
      "   ---------------------------------------  2.5/2.6 MB 18.0 MB/s eta 0:00:01\n",
      "   ---------------------------------------- 2.6/2.6 MB 10.8 MB/s eta 0:00:00\n",
      "Downloading pyparsing-3.1.2-py3-none-any.whl (103 kB)\n",
      "   ---------------------------------------- 0.0/103.2 kB ? eta -:--:--\n",
      "   ---------------------------------------  102.4/103.2 kB ? eta -:--:--\n",
      "   ---------------------------------------  102.4/103.2 kB ? eta -:--:--\n",
      "   -------------------------------------- 103.2/103.2 kB 989.4 kB/s eta 0:00:00\n",
      "Installing collected packages: pyparsing, pillow, kiwisolver, fonttools, cycler, contourpy, matplotlib\n",
      "Successfully installed contourpy-1.2.1 cycler-0.12.1 fonttools-4.53.1 kiwisolver-1.4.5 matplotlib-3.9.1 pillow-10.4.0 pyparsing-3.1.2\n"
     ]
    }
   ],
   "source": [
    "pip install matplotlib"
   ]
  },
  {
   "cell_type": "code",
   "execution_count": 6,
   "id": "8091d91a-6050-46b6-ab1f-1572255d5e7b",
   "metadata": {},
   "outputs": [],
   "source": [
    "import statistics as st \n",
    "import matplotlib.pyplot as plt"
   ]
  },
  {
   "cell_type": "code",
   "execution_count": 7,
   "id": "08811897-1071-4bbd-a5ab-c2b141a065da",
   "metadata": {},
   "outputs": [],
   "source": [
    "def statistics(data:list):\n",
    "    length = len(data)\n",
    "    temp_list=sorted(data)\n",
    "    #mittelwert\n",
    "    mittel= sum(data)/length\n",
    "    #median\n",
    "    if length % 2 == 1:\n",
    "        median = data[length // 2]\n",
    "    else:\n",
    "        median = (data[length // 2 - 1] + temp_list[length // 2]) / 2\n",
    "    #modalwert\n",
    "    häufigkeit = {}\n",
    "    max_häufigkeit = 0\n",
    "    for zahl in data:\n",
    "        if zahl in häufigkeit:\n",
    "            häufigkeit[zahl] += 1\n",
    "        else:\n",
    "            häufigkeit[zahl] = 1\n",
    "\n",
    "    \n",
    "    for zahl, häufigkeit in häufigkeit.items():\n",
    "        if häufigkeit > max_häufigkeit:\n",
    "            max_häufigkeit = häufigkeit\n",
    "            modal = zahl\n",
    "    return mittel,median,modal\n",
    "    \n",
    "    "
   ]
  },
  {
   "cell_type": "code",
   "execution_count": 8,
   "id": "2d5f3de0-13d8-483e-b6ab-072a84d59262",
   "metadata": {},
   "outputs": [
    {
     "name": "stdout",
     "output_type": "stream",
     "text": [
      "(5.0, 5, 1)\n"
     ]
    }
   ],
   "source": [
    "print(statistics([1,3,5,7,9]))"
   ]
  },
  {
   "cell_type": "code",
   "execution_count": 9,
   "id": "46aaeb57-ee3a-470e-8ccc-07d9e97ec0f5",
   "metadata": {},
   "outputs": [],
   "source": [
    "def nstatistis(data: list):\n",
    "    mittel = st.mean(data)\n",
    "    median = st.median(data)\n",
    "    modal = st.multimode(data)\n",
    "    qunatile = st.quantiles(data, n=4)\n",
    "    return mittel, median,modal,qunatile\n",
    "        "
   ]
  },
  {
   "cell_type": "code",
   "execution_count": 10,
   "id": "6cf7c0cf-2224-4248-9d0f-8936a1e73430",
   "metadata": {},
   "outputs": [
    {
     "name": "stdout",
     "output_type": "stream",
     "text": [
      "(5, 5, [1, 3, 5, 7, 9], [2.0, 5.0, 8.0])\n"
     ]
    }
   ],
   "source": [
    "print(nstatistis([1,3,5,7,9]))"
   ]
  },
  {
   "cell_type": "code",
   "execution_count": 13,
   "id": "f4b94a8e-4dec-4d4b-af42-969f6cbf58cf",
   "metadata": {},
   "outputs": [],
   "source": [
    "def show_boxplot(data, title, xlabel, ylabel):\n",
    "    \"\"\"\n",
    "    Zeigt ein Boxplot für die gegebene Liste von Zahlen.\n",
    "\n",
    "    Args:\n",
    "    data (list of float): Liste der Datenpunkte.\n",
    "    title (str): Titel des Plots.\n",
    "    xlabel (str): Label der x-Achse.\n",
    "    ylabel (str): Label der y-Achse.\n",
    "    \"\"\"\n",
    "    # Erstellen des Boxplots\n",
    "    plt.figure(figsize=(10, 6))\n",
    "    plt.boxplot(data)\n",
    "\n",
    "    # Hinzufügen von Titeln und Labels\n",
    "    plt.title(title)\n",
    "    plt.xlabel(xlabel)\n",
    "    plt.ylabel(ylabel)\n",
    "\n",
    "    # Anzeigen des Plots\n",
    "    plt.show()\n",
    "\n",
    "# Beispielaufruf der Funktion\n",
    "data = [1, 1.7, 2, 2.3, 2.7, 3.7, 5]\n",
    "title = 'Beispiel Boxplot'\n",
    "xlabel = 'Beispiel X-Achse'\n",
    "ylabel = 'Beispiel Y-Achse'\n"
   ]
  },
  {
   "cell_type": "code",
   "execution_count": 14,
   "id": "c4b1121d-614f-4dc4-abb0-c68075d80c4a",
   "metadata": {},
   "outputs": [
    {
     "data": {
      "image/png": "[encoded data removed]",
      "text/plain": [
       "<Figure size 1000x600 with 1 Axes>"
      ]
     },
     "metadata": {},
     "output_type": "display_data"
    }
   ],
   "source": [
    "show_boxplot(data, title, xlabel, ylabel)"
   ]
  },
  {
   "cell_type": "code",
   "execution_count": null,
   "id": "10f92619-880f-4dd6-bf33-6ef057a2a5f1",
   "metadata": {},
   "outputs": [],
   "source": []
  }
 ],
 "metadata": {
  "kernelspec": {
   "display_name": "Python 3 (ipykernel)",
   "language": "python",
   "name": "python3"
  },
  "language_info": {
   "codemirror_mode": {
    "name": "ipython",
    "version": 3
   },
   "file_extension": ".py",
   "mimetype": "text/x-python",
   "name": "python",
   "nbconvert_exporter": "python",
   "pygments_lexer": "ipython3",
   "version": "3.12.4"
  }
 },
 "nbformat": 4,
 "nbformat_minor": 5
}
