{
 "cells": [
  {
   "cell_type": "markdown",
   "id": "6d8142fc-30cd-4f0a-b590-849bfefda7ec",
   "metadata": {},
   "source": [
    "# Projekt: Algorithmischer-Handel"
   ]
  },
  {
   "cell_type": "markdown",
   "id": "b6a7d956-4327-4bc9-9887-7e9f8931985d",
   "metadata": {},
   "source": [
    "Das Projekt Algorithmischer Handel basierend auf die Klassifikation automatisierte Handelsstrategien zu entwickeln.\n",
    "Die Kauf- und Verkaufsentscheidung soll basierend auf den historischen und Echtzeit-Marktdaten funktionieren.\n",
    "Die Klassifikation generiert die Vohersage, um dann zu schauen, ob die Aktie gekauft(long) oder verkauft(short) werden soll."
   ]
  },
  {
   "cell_type": "markdown",
   "id": "4105b7e2-7ca9-4fb1-b494-7722ecad68d0",
   "metadata": {},
   "source": [
    "Das Projekt muss unter folgenden Schritte aufgeteilt werden:\n",
    "1. Die Datenbeschaffung und aufbereitung\n",
    "2. Datenanalyse\n",
    "3. Vorbereitung der Trainingsdaten\n",
    "4. Modellierung\n",
    "5. Bewertimg der Genauigkeit und Zuverlässigkeit der entwickelten Methode\n",
    "6. Backtesting mit Historiche Daten"
   ]
  },
  {
   "cell_type": "markdown",
   "id": "b2f3a1d4-16dc-45cd-ac92-d3d133dc8dfc",
   "metadata": {},
   "source": [
    "# 1. Datenbeschaffung und aufbereitung"
   ]
  },
  {
   "cell_type": "markdown",
   "id": "46eca8a1-02e1-4b5c-8336-33641b32b251",
   "metadata": {},
   "source": [
    "<h2>1.1 Datenbeschaffung</h2>"
   ]
  },
  {
   "cell_type": "markdown",
   "id": "98237ae3-65d0-4fe4-b975-af0fc9c6e450",
   "metadata": {},
   "source": [
    "Es müssen einige Bibliotheken hinzugefügt werden. \n",
    "Als erstes muss yfinance hinzugefügt werden, diese ermöglich den zugriff auf Aktiendaten zuzugreifen."
   ]
  },
  {
   "cell_type": "code",
   "execution_count": 1,
   "id": "7ab85f0c-596f-4a51-9216-8af80c6b3dcc",
   "metadata": {
    "scrolled": true
   },
   "outputs": [
    {
     "name": "stdout",
     "output_type": "stream",
     "text": [
      "Requirement already satisfied: yfinance in e:\\semester_vier\\data_analyse\\algorithmischer-handel\\venv\\lib\\site-packages (0.2.40)\n",
      "Requirement already satisfied: pandas in e:\\semester_vier\\data_analyse\\algorithmischer-handel\\venv\\lib\\site-packages (2.2.2)\n",
      "Requirement already satisfied: numpy>=1.16.5 in e:\\semester_vier\\data_analyse\\algorithmischer-handel\\venv\\lib\\site-packages (from yfinance) (2.0.0)\n",
      "Requirement already satisfied: requests>=2.31 in e:\\semester_vier\\data_analyse\\algorithmischer-handel\\venv\\lib\\site-packages (from yfinance) (2.32.3)\n",
      "Requirement already satisfied: multitasking>=0.0.7 in e:\\semester_vier\\data_analyse\\algorithmischer-handel\\venv\\lib\\site-packages (from yfinance) (0.0.11)\n",
      "Requirement already satisfied: lxml>=4.9.1 in e:\\semester_vier\\data_analyse\\algorithmischer-handel\\venv\\lib\\site-packages (from yfinance) (5.2.2)\n",
      "Requirement already satisfied: platformdirs>=2.0.0 in e:\\semester_vier\\data_analyse\\algorithmischer-handel\\venv\\lib\\site-packages (from yfinance) (4.2.2)\n",
      "Requirement already satisfied: pytz>=2022.5 in e:\\semester_vier\\data_analyse\\algorithmischer-handel\\venv\\lib\\site-packages (from yfinance) (2024.1)\n",
      "Requirement already satisfied: frozendict>=2.3.4 in e:\\semester_vier\\data_analyse\\algorithmischer-handel\\venv\\lib\\site-packages (from yfinance) (2.4.4)\n",
      "Requirement already satisfied: peewee>=3.16.2 in e:\\semester_vier\\data_analyse\\algorithmischer-handel\\venv\\lib\\site-packages (from yfinance) (3.17.5)\n",
      "Requirement already satisfied: beautifulsoup4>=4.11.1 in e:\\semester_vier\\data_analyse\\algorithmischer-handel\\venv\\lib\\site-packages (from yfinance) (4.12.3)\n",
      "Requirement already satisfied: html5lib>=1.1 in e:\\semester_vier\\data_analyse\\algorithmischer-handel\\venv\\lib\\site-packages (from yfinance) (1.1)\n",
      "Requirement already satisfied: python-dateutil>=2.8.2 in e:\\semester_vier\\data_analyse\\algorithmischer-handel\\venv\\lib\\site-packages (from pandas) (2.9.0.post0)\n",
      "Requirement already satisfied: tzdata>=2022.7 in e:\\semester_vier\\data_analyse\\algorithmischer-handel\\venv\\lib\\site-packages (from pandas) (2024.1)\n",
      "Requirement already satisfied: soupsieve>1.2 in e:\\semester_vier\\data_analyse\\algorithmischer-handel\\venv\\lib\\site-packages (from beautifulsoup4>=4.11.1->yfinance) (2.5)\n",
      "Requirement already satisfied: six>=1.9 in e:\\semester_vier\\data_analyse\\algorithmischer-handel\\venv\\lib\\site-packages (from html5lib>=1.1->yfinance) (1.16.0)\n",
      "Requirement already satisfied: webencodings in e:\\semester_vier\\data_analyse\\algorithmischer-handel\\venv\\lib\\site-packages (from html5lib>=1.1->yfinance) (0.5.1)\n",
      "Requirement already satisfied: charset-normalizer<4,>=2 in e:\\semester_vier\\data_analyse\\algorithmischer-handel\\venv\\lib\\site-packages (from requests>=2.31->yfinance) (3.3.2)\n",
      "Requirement already satisfied: idna<4,>=2.5 in e:\\semester_vier\\data_analyse\\algorithmischer-handel\\venv\\lib\\site-packages (from requests>=2.31->yfinance) (3.7)\n",
      "Requirement already satisfied: urllib3<3,>=1.21.1 in e:\\semester_vier\\data_analyse\\algorithmischer-handel\\venv\\lib\\site-packages (from requests>=2.31->yfinance) (2.2.2)\n",
      "Requirement already satisfied: certifi>=2017.4.17 in e:\\semester_vier\\data_analyse\\algorithmischer-handel\\venv\\lib\\site-packages (from requests>=2.31->yfinance) (2024.6.2)\n"
     ]
    }
   ],
   "source": [
    "!pip install yfinance pandas"
   ]
  },
  {
   "cell_type": "markdown",
   "id": "6abdc585-1bab-4adb-8844-8e7c1ac86e06",
   "metadata": {},
   "source": [
    "Nachdem die benötigten Bibliotheken hinzugefügt wurden müssen diese importiert werden"
   ]
  },
  {
   "cell_type": "code",
   "execution_count": 70,
   "id": "b74a1bb9-0a7f-4aa2-8cf7-966d3a1e1dc5",
   "metadata": {},
   "outputs": [],
   "source": [
    "import yfinance as yf\n",
    "import pandas as pd\n",
    "from datetime import datetime"
   ]
  },
  {
   "cell_type": "markdown",
   "id": "807b068a-01ce-4b0e-8d7a-6ba2cb6dd727",
   "metadata": {},
   "source": [
    "Der user soll die möglichkeit bekommen selber die Aktie zu bestimmen, dennoch wird eine Validierung eingebaut die überprüft, ob die Aktie vorhanden ist oder nicht"
   ]
  },
  {
   "cell_type": "code",
   "execution_count": 35,
   "id": "806b1558-776d-41e0-b2d2-bf8567f26d99",
   "metadata": {
    "scrolled": true
   },
   "outputs": [
    {
     "name": "stdin",
     "output_type": "stream",
     "text": [
      "Geben Sie bitte die Aktienkürzel ein:  AMZN\n"
     ]
    },
    {
     "name": "stdout",
     "output_type": "stream",
     "text": [
      "Die Aktie lautet: Amazon.com, Inc.\n",
      "{'address1': '410 Terry Avenue North', 'city': 'Seattle', 'state': 'WA', 'zip': '98109-5210', 'country': 'United States', 'phone': '206 266 1000', 'website': 'https://www.aboutamazon.com', 'industry': 'Internet Retail', 'industryKey': 'internet-retail', 'industryDisp': 'Internet Retail', 'sector': 'Consumer Cyclical', 'sectorKey': 'consumer-cyclical', 'sectorDisp': 'Consumer Cyclical', 'longBusinessSummary': \"Amazon.com, Inc. engages in the retail sale of consumer products, advertising, and subscriptions service through online and physical stores in North America and internationally. The company operates through three segments: North America, International, and Amazon Web Services (AWS). It also manufactures and sells electronic devices, including Kindle, Fire tablets, Fire TVs, Echo, Ring, Blink, and eero; and develops and produces media content. In addition, the company offers programs that enable sellers to sell their products in its stores; and programs that allow authors, independent publishers, musicians, filmmakers, Twitch streamers, skill and app developers, and others to publish and sell content. Further, it provides compute, storage, database, analytics, machine learning, and other services, as well as advertising services through programs, such as sponsored ads, display, and video advertising. Additionally, the company offers Amazon Prime, a membership program. The company's products offered through its stores include merchandise and content purchased for resale and products offered by third-party sellers. It serves consumers, sellers, developers, enterprises, content creators, advertisers, and employees. Amazon.com, Inc. was incorporated in 1994 and is headquartered in Seattle, Washington.\", 'fullTimeEmployees': 1525000, 'companyOfficers': [{'maxAge': 1, 'name': 'Mr. Jeffrey P. Bezos', 'age': 59, 'title': 'Founder & Executive Chairman', 'yearBorn': 1964, 'fiscalYear': 2023, 'totalPay': 1681840, 'exercisedValue': 0, 'unexercisedValue': 0}, {'maxAge': 1, 'name': 'Mr. Andrew R. Jassy', 'age': 55, 'title': 'President, CEO & Director', 'yearBorn': 1968, 'fiscalYear': 2023, 'totalPay': 1722764, 'exercisedValue': 0, 'unexercisedValue': 0}, {'maxAge': 1, 'name': 'Mr. Brian T. Olsavsky', 'age': 59, 'title': 'Senior VP & CFO', 'yearBorn': 1964, 'fiscalYear': 2023, 'totalPay': 371600, 'exercisedValue': 0, 'unexercisedValue': 0}, {'maxAge': 1, 'name': 'Mr. David A. Zapolsky', 'age': 59, 'title': 'Senior VP of Global Public Policy & General Counsel', 'yearBorn': 1964, 'fiscalYear': 2023, 'totalPay': 371600, 'exercisedValue': 0, 'unexercisedValue': 0}, {'maxAge': 1, 'name': 'Mr. Douglas J. Herrington', 'age': 56, 'title': 'Chief Executive Officer of Worldwide Amazon Stores', 'yearBorn': 1967, 'fiscalYear': 2023, 'totalPay': 394231, 'exercisedValue': 0, 'unexercisedValue': 0}, {'maxAge': 1, 'name': 'Ms. Shelley L. Reynolds', 'age': 58, 'title': 'VP, Worldwide Controller & Principal Accounting Officer', 'yearBorn': 1965, 'fiscalYear': 2023, 'totalPay': 163200, 'exercisedValue': 0, 'unexercisedValue': 0}, {'maxAge': 1, 'name': 'Dr. Werner  Vogels', 'title': 'Chief Technology Officer', 'fiscalYear': 2023, 'exercisedValue': 0, 'unexercisedValue': 0}, {'maxAge': 1, 'name': 'Mr. Dave  Fildes', 'title': 'Director of Investor Relations', 'fiscalYear': 2023, 'exercisedValue': 0, 'unexercisedValue': 0}, {'maxAge': 1, 'name': 'Ms. Anuradha  Aggarwal', 'title': 'CMO & Director of User Growth', 'fiscalYear': 2023, 'exercisedValue': 0, 'unexercisedValue': 0}, {'maxAge': 1, 'name': 'Ms. Beth  Galetti M.B.A.', 'title': 'Senior Vice President of Worldwide Human Resources', 'fiscalYear': 2023, 'exercisedValue': 0, 'unexercisedValue': 0}], 'auditRisk': 5, 'boardRisk': 10, 'compensationRisk': 10, 'shareHolderRightsRisk': 3, 'overallRisk': 9, 'governanceEpochDate': 1719792000, 'compensationAsOfEpochDate': 1703980800, 'irWebsite': 'http://phx.corporate-ir.net/phoenix.zhtml?c=97664&p=irol-irhome', 'maxAge': 86400, 'priceHint': 2, 'previousClose': 200.0, 'open': 199.91, 'dayLow': 196.7601, 'dayHigh': 200.029, 'regularMarketPreviousClose': 200.0, 'regularMarketOpen': 199.91, 'regularMarketDayLow': 196.7601, 'regularMarketDayHigh': 200.029, 'beta': 1.142, 'trailingPE': 55.192738, 'forwardPE': 34.303818, 'volume': 31357456, 'regularMarketVolume': 31357456, 'averageVolume': 42201372, 'averageVolume10days': 55397720, 'averageDailyVolume10Day': 55397720, 'bid': 197.24, 'ask': 210.08, 'bidSize': 400, 'askSize': 100, 'marketCap': 2056239972352, 'fiftyTwoWeekLow': 118.35, 'fiftyTwoWeekHigh': 200.43, 'priceToSalesTrailing12Months': 3.4807868, 'fiftyDayAverage': 184.5458, 'twoHundredDayAverage': 162.1611, 'currency': 'USD', 'enterpriseValue': 2156811517952, 'profitMargins': 0.06379, 'floatShares': 9261794333, 'sharesOutstanding': 10406599680, 'sharesShort': 85134086, 'sharesShortPriorMonth': 70812929, 'sharesShortPreviousMonthDate': 1715731200, 'dateShortInterest': 1718323200, 'sharesPercentSharesOut': 0.0082, 'heldPercentInsiders': 0.09158, 'heldPercentInstitutions': 0.63616, 'shortRatio': 2.4, 'shortPercentOfFloat': 0.0092, 'impliedSharesOutstanding': 10406599680, 'bookValue': 20.827, 'priceToBook': 9.487205, 'lastFiscalYearEnd': 1703980800, 'nextFiscalYearEnd': 1735603200, 'mostRecentQuarter': 1711843200, 'earningsQuarterlyGrowth': 2.288, 'netIncomeToCommon': 37683998720, 'trailingEps': 3.58, 'forwardEps': 5.76, 'pegRatio': 1.44, 'lastSplitFactor': '20:1', 'lastSplitDate': 1654473600, 'enterpriseToRevenue': 3.651, 'enterpriseToEbitda': 22.325, '52WeekChange': 0.5339776, 'SandP52WeekChange': 0.23886502, 'exchange': 'NMS', 'quoteType': 'EQUITY', 'symbol': 'AMZN', 'underlyingSymbol': 'AMZN', 'shortName': 'Amazon.com, Inc.', 'longName': 'Amazon.com, Inc.', 'firstTradeDateEpochUtc': 863703000, 'timeZoneFullName': 'America/New_York', 'timeZoneShortName': 'EDT', 'uuid': '261fd26b-0151-3813-b0d0-97e4ed4c6505', 'messageBoardId': 'finmb_18749', 'gmtOffSetMilliseconds': -14400000, 'currentPrice': 197.59, 'targetHighPrice': 500.0, 'targetLowPrice': 180.0, 'targetMeanPrice': 225.21, 'targetMedianPrice': 220.0, 'recommendationMean': 1.7, 'recommendationKey': 'buy', 'numberOfAnalystOpinions': 53, 'totalCash': 85074001920, 'totalCashPerShare': 8.175, 'ebitda': 96609001472, 'totalDebt': 160560005120, 'quickRatio': 0.829, 'currentRatio': 1.072, 'totalRevenue': 590739996672, 'debtToEquity': 74.107, 'revenuePerShare': 57.133, 'returnOnAssets': 0.059510004, 'returnOnEquity': 0.20305, 'freeCashflow': 57269751808, 'operatingCashflow': 99146997760, 'earningsGrowth': 2.167, 'revenueGrowth': 0.125, 'grossMargins': 0.47594002, 'ebitdaMargins': 0.16354, 'operatingMargins': 0.106809996, 'financialCurrency': 'USD', 'trailingPegRatio': 2.1254}\n"
     ]
    }
   ],
   "source": [
    "stock = input(\"Geben Sie bitte die Aktienkürzel ein: \").upper()\n",
    "stock_info =  yf.Ticker(stock).info\n",
    "try:\n",
    "        if 'shortName' in stock_info and stock_info['shortName']:\n",
    "            print(f\"Die Aktie lautet: {stock_info['shortName']}\")\n",
    "            print(stock_info)\n",
    "        else:\n",
    "            raise Exception (f\"Die Aktie: {stock} ist nicht vorhanden\")\n",
    "except Exception as err:\n",
    "        print(err)"
   ]
  },
  {
   "cell_type": "markdown",
   "id": "b73a8ef8-a56a-4f67-b50a-fd03012e0f76",
   "metadata": {},
   "source": [
    "Nachdem die Validation steht kann mit der Variable \"stock_info\" die Daten heruntergeladen werden.\n",
    "Hierzu werden die Daten vom aktuellen Tag bis vor einem Jahr verwendet."
   ]
  },
  {
   "cell_type": "code",
   "execution_count": 72,
   "id": "6b1d3ae8-d428-4d24-b725-02d0f692a40e",
   "metadata": {},
   "outputs": [
    {
     "name": "stderr",
     "output_type": "stream",
     "text": [
      "[*********************100%%**********************]  1 of 1 completed"
     ]
    },
    {
     "name": "stdout",
     "output_type": "stream",
     "text": [
      "---Metadaten---\n",
      "AMZN\n",
      "2024-07-03\n",
      "2023-07-03\n",
      "--------------------------Aktiendaten von Amazon.com, Inc.--------------------------\n",
      "                  Open        High         Low       Close   Adj Close  \\\n",
      "Date                                                                     \n",
      "2023-07-03  130.820007  131.850006  130.070007  130.220001  130.220001   \n",
      "2023-07-05  130.240005  131.399994  129.639999  130.380005  130.380005   \n",
      "2023-07-06  128.250000  128.729996  127.370003  128.360001  128.360001   \n",
      "2023-07-07  128.589996  130.970001  128.130005  129.779999  129.779999   \n",
      "2023-07-10  129.070007  129.279999  125.919998  127.129997  127.129997   \n",
      "...                ...         ...         ...         ...         ...   \n",
      "2024-06-26  186.919998  194.800003  186.259995  193.610001  193.610001   \n",
      "2024-06-27  195.009995  199.839996  194.199997  197.850006  197.850006   \n",
      "2024-06-28  197.729996  198.850006  192.500000  193.250000  193.250000   \n",
      "2024-07-01  193.490005  198.300003  192.820007  197.199997  197.199997   \n",
      "2024-07-02  197.279999  200.429993  195.929993  200.000000  200.000000   \n",
      "\n",
      "              Volume  \n",
      "Date                  \n",
      "2023-07-03  28264800  \n",
      "2023-07-05  35895400  \n",
      "2023-07-06  40639900  \n",
      "2023-07-07  41928700  \n",
      "2023-07-10  61889300  \n",
      "...              ...  \n",
      "2024-06-26  65103900  \n",
      "2024-06-27  74397500  \n",
      "2024-06-28  76930200  \n",
      "2024-07-01  41192000  \n",
      "2024-07-02  45526900  \n",
      "\n",
      "[252 rows x 6 columns]\n",
      "------------------------------------------------------------------------------------\n"
     ]
    },
    {
     "name": "stderr",
     "output_type": "stream",
     "text": [
      "\n"
     ]
    }
   ],
   "source": [
    "print(\"---Metadaten---\")\n",
    "print(stock_info['symbol'])\n",
    "print(datetime.today().strftime('%Y-%m-%d'))\n",
    "print((datetime.today().replace(year=datetime.today().year - 1)).strftime('%Y-%m-%d'))\n",
    "try:\n",
    "    stock_data = yf.download(\n",
    "                    stock_info['symbol'],\n",
    "                    start = (datetime.today().replace(year=datetime.today().year - 1)).strftime('%Y-%m-%d'), \n",
    "                    end=datetime.today().strftime('%Y-%m-%d'))\n",
    "except Exception as err:\n",
    "    print(f\"Das Herunterladen der Datei war nicht erfolgreich: {err}\")\n",
    "print(f\"--------------------------Aktiendaten von {stock_info['shortName']}--------------------------\")\n",
    "print(stock_data)\n",
    "print(f\"------------------------------------------------------------------------------------\")"
   ]
  },
  {
   "cell_type": "code",
   "execution_count": null,
   "id": "a97995bf-e285-455a-8b20-58bb4dfa08de",
   "metadata": {},
   "outputs": [],
   "source": []
  }
 ],
 "metadata": {
  "kernelspec": {
   "display_name": "Python 3 (ipykernel)",
   "language": "python",
   "name": "python3"
  },
  "language_info": {
   "codemirror_mode": {
    "name": "ipython",
    "version": 3
   },
   "file_extension": ".py",
   "mimetype": "text/x-python",
   "name": "python",
   "nbconvert_exporter": "python",
   "pygments_lexer": "ipython3",
   "version": "3.12.4"
  }
 },
 "nbformat": 4,
 "nbformat_minor": 5
}
