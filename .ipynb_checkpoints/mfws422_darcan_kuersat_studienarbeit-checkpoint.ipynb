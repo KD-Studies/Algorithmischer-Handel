{
 "cells": [
  {
   "cell_type": "markdown",
   "id": "1d4a790f-4fd2-4e96-876d-22f95f0ad778",
   "metadata": {},
   "source": [
    "<h1>Abgabe</h1>"
   ]
  },
  {
   "cell_type": "code",
   "execution_count": null,
   "id": "5cf12d84-eed4-41b8-8381-4908a93cb26e",
   "metadata": {},
   "outputs": [],
   "source": []
  }
 ],
 "metadata": {
  "kernelspec": {
   "display_name": "Python 3 (ipykernel)",
   "language": "python",
   "name": "python3"
  },
  "language_info": {
   "codemirror_mode": {
    "name": "ipython",
    "version": 3
   },
   "file_extension": ".py",
   "mimetype": "text/x-python",
   "name": "python",
   "nbconvert_exporter": "python",
   "pygments_lexer": "ipython3",
   "version": "3.12.4"
  }
 },
 "nbformat": 4,
 "nbformat_minor": 5
}
