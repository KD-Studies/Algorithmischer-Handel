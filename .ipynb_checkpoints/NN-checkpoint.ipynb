{
 "cells": [
  {
   "cell_type": "code",
   "execution_count": null,
   "id": "ff651637-5c5d-4369-b82b-4c050cf6a419",
   "metadata": {},
   "outputs": [],
   "source": [
    "import random\n",
    "import numpy as np\n",
    "import pandas as pd\n",
    "\n",
    "from sklearn.model_selection import train_test_split\n",
    "from sklearn.neural_network import MLPRegressor\n",
    "from sklearn.metrics import root_mean_squared_error\n",
    "\n",
    "random_seed = 42\n",
    "random.seed(random_seed)\n",
    "np.random.seed(random_seed)\n",
    "\n",
    "housing = pd.read_csv('housing.csv')\n",
    "housing"
   ]
  },
  {
   "cell_type": "code",
   "execution_count": null,
   "id": "f4fb0e58-4dc7-4ace-9b7b-d5730e3331ed",
   "metadata": {},
   "outputs": [],
   "source": [
    "# fehlende Daten von total_bedrooms auffüllen\n",
    "total_bedrooms_median = housing['total_bedrooms'].median()\n",
    "housing['total_bedrooms'] = housing['total_bedrooms'].fillna(total_bedrooms_median)\n",
    "housing.describe()"
   ]
  },
  {
   "cell_type": "code",
   "execution_count": null,
   "id": "0b9a83c0-e52b-4aed-a1f5-02205be909ee",
   "metadata": {},
   "outputs": [],
   "source": [
    "# One-Hot-Encoding für ocean_proximity\n",
    "housing['near_ocean'] = housing['ocean_proximity'] == \"NEAR OCEAN\"\n",
    "housing['near_bay'] = housing['ocean_proximity'] == \"NEAR BAY\"\n",
    "housing['inland'] = housing['ocean_proximity'] == \"INLAND\"\n",
    "housing['one_h_ocean'] = housing['ocean_proximity'] == \"<1H OCEAN\"\n",
    "housing['island'] = housing['ocean_proximity'] == \"ISLAND\"\n",
    "housing = housing.drop(columns=['ocean_proximity'], axis=1)\n",
    "\n",
    "housing"
   ]
  },
  {
   "cell_type": "code",
   "execution_count": null,
   "id": "57ac25bb-1957-453f-b802-d4b39a32c4b6",
   "metadata": {},
   "outputs": [],
   "source": [
    "# aufteilen der Daten in Eingabe und erwartetes Ergebnis\n",
    "X = housing.drop(columns=['median_house_value'])\n",
    "y = housing['median_house_value']"
   ]
  }
 ],
 "metadata": {
  "kernelspec": {
   "display_name": "Python 3 (ipykernel)",
   "language": "python",
   "name": "python3"
  },
  "language_info": {
   "codemirror_mode": {
    "name": "ipython",
    "version": 3
   },
   "file_extension": ".py",
   "mimetype": "text/x-python",
   "name": "python",
   "nbconvert_exporter": "python",
   "pygments_lexer": "ipython3",
   "version": "3.12.5"
  }
 },
 "nbformat": 4,
 "nbformat_minor": 5
}
