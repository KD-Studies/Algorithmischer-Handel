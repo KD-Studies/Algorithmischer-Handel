{
 "cells": [
  {
   "cell_type": "code",
   "execution_count": 2,
   "id": "24fd9704-c14c-4a23-a4e1-235c570bf2ba",
   "metadata": {},
   "outputs": [
    {
     "name": "stdout",
     "output_type": "stream",
     "text": [
      "    Periode  Absatz  Werbung  Preis  Verkaufsförderung\n",
      "0         1    2596      203   1.42                150\n",
      "1         2    2709      216   1.41                120\n",
      "2         3    2552      207   1.95                146\n",
      "3         4    3004      250   1.99                270\n",
      "4         5    3076      240   1.63                200\n",
      "5         6    2513      226   1.82                 93\n",
      "6         7    2626      246   1.69                 70\n",
      "7         8    3120      250   1.65                230\n",
      "8         9    2751      235   1.99                166\n",
      "9        10    2965      256   1.53                116\n",
      "10       11    2818      242   1.69                100\n",
      "11       12    3171      251   1.72                216\n",
      "Das ist die korrelationsmartrix\n",
      "                    Periode    Absatz   Werbung     Preis  Verkaufsförderung\n",
      "Periode            1.000000  0.493610  0.753490  0.176361          -0.023974\n",
      "Absatz             0.493610  1.000000  0.742410 -0.047555           0.713270\n",
      "Werbung            0.753490  0.742410  1.000000  0.155163           0.289812\n",
      "Preis              0.176361 -0.047555  0.155163  1.000000           0.298821\n",
      "Verkaufsförderung -0.023974  0.713270  0.289812  0.298821           1.000000\n",
      "[2560.47446996 2691.97022633 2497.20435453 2917.93196738 2888.32987967\n",
      " 2711.84291631 2936.44685323 2984.09187198 2768.45134027 3067.23467738\n",
      " 2896.58535267 2980.43609029]\n",
      "Das ist der SSR: 254815.93272616316\n"
     ]
    }
   ],
   "source": [
    "import pandas as pd\n",
    "import matplotlib.pyplot as plt\n",
    "from sklearn.linear_model import LinearRegression\n",
    "import numpy as np\n",
    " \n",
    "daten = pd.read_csv(\"schokodata.csv\" , sep=\";\", decimal =\",\", thousands = \".\")\n",
    " \n",
    "print (daten)\n",
    " \n",
    "korrelation = daten.corr()\n",
    " \n",
    "print(\"Das ist die korrelationsmartrix\")\n",
    "print(korrelation)\n",
    " \n",
    "x = daten_df [[\"Werbung\",\"Preis\"]]\n",
    "y = daten_df [\"Absatz\"]\n",
    " \n",
    "model = LinearRegression()\n",
    "daten = model.fit(x,y)\n",
    "y_pred = model.predict(x)\n",
    "print(y_pred)\n",
    " \n",
    "def compute_ssr(y_pred, y):\n",
    "    return np.sum (np.square(y_pred - y))\n",
    "\n",
    "ssr = compute_ssr (y_pred, y)\n",
    "print (\"Das ist der SSR:\", ssr)"
   ]
  },
  {
   "cell_type": "code",
   "execution_count": null,
   "id": "166df703-3acf-458e-b56c-594d2b007928",
   "metadata": {},
   "outputs": [],
   "source": []
  }
 ],
 "metadata": {
  "kernelspec": {
   "display_name": "Python 3 (ipykernel)",
   "language": "python",
   "name": "python3"
  },
  "language_info": {
   "codemirror_mode": {
    "name": "ipython",
    "version": 3
   },
   "file_extension": ".py",
   "mimetype": "text/x-python",
   "name": "python",
   "nbconvert_exporter": "python",
   "pygments_lexer": "ipython3",
   "version": "3.12.4"
  }
 },
 "nbformat": 4,
 "nbformat_minor": 5
}
