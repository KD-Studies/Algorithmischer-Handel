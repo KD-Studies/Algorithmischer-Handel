{
 "cells": [
  {
   "cell_type": "code",
   "execution_count": 1,
   "id": "f2b534d3-6697-4512-b2b8-311b44689f05",
   "metadata": {},
   "outputs": [
    {
     "name": "stdout",
     "output_type": "stream",
     "text": [
      "Requirement already satisfied: scikit-learn in c:\\users\\kdarcan\\documents\\github\\algorithmischer-handel\\venv\\lib\\site-packages (1.5.1)\n",
      "Requirement already satisfied: pandas in c:\\users\\kdarcan\\documents\\github\\algorithmischer-handel\\venv\\lib\\site-packages (2.2.2)\n",
      "Requirement already satisfied: numpy>=1.19.5 in c:\\users\\kdarcan\\documents\\github\\algorithmischer-handel\\venv\\lib\\site-packages (from scikit-learn) (2.0.0)\n",
      "Requirement already satisfied: scipy>=1.6.0 in c:\\users\\kdarcan\\documents\\github\\algorithmischer-handel\\venv\\lib\\site-packages (from scikit-learn) (1.14.0)\n",
      "Requirement already satisfied: joblib>=1.2.0 in c:\\users\\kdarcan\\documents\\github\\algorithmischer-handel\\venv\\lib\\site-packages (from scikit-learn) (1.4.2)\n",
      "Requirement already satisfied: threadpoolctl>=3.1.0 in c:\\users\\kdarcan\\documents\\github\\algorithmischer-handel\\venv\\lib\\site-packages (from scikit-learn) (3.5.0)\n",
      "Requirement already satisfied: python-dateutil>=2.8.2 in c:\\users\\kdarcan\\documents\\github\\algorithmischer-handel\\venv\\lib\\site-packages (from pandas) (2.9.0.post0)\n",
      "Requirement already satisfied: pytz>=2020.1 in c:\\users\\kdarcan\\documents\\github\\algorithmischer-handel\\venv\\lib\\site-packages (from pandas) (2024.1)\n",
      "Requirement already satisfied: tzdata>=2022.7 in c:\\users\\kdarcan\\documents\\github\\algorithmischer-handel\\venv\\lib\\site-packages (from pandas) (2024.1)\n",
      "Requirement already satisfied: six>=1.5 in c:\\users\\kdarcan\\documents\\github\\algorithmischer-handel\\venv\\lib\\site-packages (from python-dateutil>=2.8.2->pandas) (1.16.0)\n"
     ]
    },
    {
     "name": "stderr",
     "output_type": "stream",
     "text": [
      "\n",
      "[notice] A new release of pip is available: 24.1 -> 24.1.1\n",
      "[notice] To update, run: python.exe -m pip install --upgrade pip\n"
     ]
    }
   ],
   "source": [
    "!pip install scikit-learn pandas"
   ]
  },
  {
   "cell_type": "code",
   "execution_count": 7,
   "id": "1d4e3f8a-207d-4c88-902e-476fbfaf3272",
   "metadata": {},
   "outputs": [
    {
     "name": "stdout",
     "output_type": "stream",
     "text": [
      "   Absatz  Werbung  Preis  Verkaufsförderung\n",
      "0    2596      203   1.42                150\n",
      "1    2709      216   1.41                120\n",
      "2    2552      207   1.95                146\n",
      "3    3004      250   1.99                270\n",
      "4    3076      240   1.63                200\n",
      "                     Absatz   Werbung     Preis  Verkaufsförderung\n",
      "Absatz             1.000000  0.742410 -0.047555           0.713270\n",
      "Werbung            0.742410  1.000000  0.155163           0.289812\n",
      "Preis             -0.047555  0.155163  1.000000           0.298821\n",
      "Verkaufsförderung  0.713270  0.289812  0.298821           1.000000\n"
     ]
    }
   ],
   "source": [
    "import pandas as pd\n",
    "import numpy as np\n",
    "from sklearn.linear_model import LinearRegression\n",
    "# CSV-Datei laden\n",
    "datei_pfad = 'data.csv'\n",
    "daten = pd.read_csv(datei_pfad, sep=';', decimal = ',', thousands = '.')\n",
    "daten = daten.drop(\"Periode\", axis = 1)\n",
    "daten.corr()\n",
    "matrix = daten.corr()\n",
    "print(daten.head())\n",
    "print(matrix)\n",
    " "
   ]
  },
  {
   "cell_type": "markdown",
   "id": "b904418c-7d91-4357-8e5b-46f89b825ab5",
   "metadata": {},
   "source": [
    "Speichern Sie die Regressoren in der Variable X, den Regressand in der Variable y"
   ]
  },
  {
   "cell_type": "code",
   "execution_count": 13,
   "id": "7238d024-d089-40c4-a9d5-678366a57da9",
   "metadata": {},
   "outputs": [
    {
     "name": "stdout",
     "output_type": "stream",
     "text": [
      "Coefficient of determination: 0.57831404389916\n",
      "Predicted response: [-488.50521993]\n"
     ]
    },
    {
     "name": "stderr",
     "output_type": "stream",
     "text": [
      "C:\\Users\\Kdarcan\\Documents\\GitHub\\Algorithmischer-Handel\\venv\\Lib\\site-packages\\sklearn\\base.py:493: UserWarning: X does not have valid feature names, but LinearRegression was fitted with feature names\n",
      "  warnings.warn(\n"
     ]
    }
   ],
   "source": [
    "x = daten[[\"Werbung\",\"Preis\"]]\n",
    "y = daten[\"Absatz\"]\n",
    "\n",
    "model = LinearRegression()\n",
    "model.fit(x,y)\n",
    "r_sq = model.score(x,y)\n",
    "print(f\"Coefficient of determination: {r_sq}\")\n",
    "pred = model.predict([[6,7]])\n",
    "print(f\"Predicted response: {pred}\")"
   ]
  },
  {
   "cell_type": "code",
   "execution_count": null,
   "id": "35ac2eee-af82-4cfa-8b79-d8465c02d5fc",
   "metadata": {},
   "outputs": [],
   "source": []
  }
 ],
 "metadata": {
  "kernelspec": {
   "display_name": "Python 3 (ipykernel)",
   "language": "python",
   "name": "python3"
  },
  "language_info": {
   "codemirror_mode": {
    "name": "ipython",
    "version": 3
   },
   "file_extension": ".py",
   "mimetype": "text/x-python",
   "name": "python",
   "nbconvert_exporter": "python",
   "pygments_lexer": "ipython3",
   "version": "3.12.4"
  }
 },
 "nbformat": 4,
 "nbformat_minor": 5
}
