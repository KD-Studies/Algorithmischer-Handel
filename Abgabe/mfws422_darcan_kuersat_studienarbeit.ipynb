{
  "cells": [
    {
      "cell_type": "markdown",
      "metadata": {
        "id": "whqN3XxG3JYj"
      },
      "source": [
        "# Vorhersage von Kauf-, Halte- und Verkaufssingale für Aktien"
      ]
    },
    {
      "cell_type": "markdown",
      "metadata": {
        "id": "Xy_ZizDIwfWJ"
      },
      "source": [
        "Im Finanzhandel ist es entscheidend, fundierte Entscheidungen auf Basis von Daten zu treffen. Mit der Analyse von Aktienkursen können Handelsstrategien entwickelt werden, die dabei helfen, zu entscheiden, wann man eine Aktie kaufen, verkaufen oder halten sollte. In diesem Projekt werden zwei verschiedene Ansätze verwendet, um solche Handelsentscheidungen zu treffen.\n",
        "### Ziel\n",
        "Das Ziel dieses Projekts ist es, zwei Modelle zu entwickeln, die Handelsentscheidungen auf Basis von historischen Aktienkursdaten vorhersagen können.\n",
        "\n",
        "1.   Technische Indikatoren-Modell: Dieses Modell nutzt spezielle Kennzahlen, die aus den historischen Kursdaten berechnet werden, um Vorhersagen zu treffen.\n",
        "2.   Rohdaten-Modell: Dieses Modell verwendet die grundlegenden Kursdaten wie Öffnungskurs, Höchstkurs, Tiefstkurs, Schlusskurs und Handelsvolumen, um Entscheidungen zu treffen.\n",
        "\n",
        "### Vorgehen\n",
        "\n",
        "Zuerst werden die Daten aufbereitet und in Trainings- und Testsets unterteilt. Dann werden die Modelle trainiert und auf ihre Genauigkeit getestet. Schließlich werden Vorhersagen für das Jahr 2022 erstellt und simuliert, wie sich diese Handelsstrategien in der Praxis bewähren würden.\n",
        "\n",
        "Das Projekt zeigt, wie unterschiedliche Ansätze zur Vorhersage von Handelssignalen eingesetzt werden können und bietet Einblicke in die mögliche Leistung dieser Modelle."
      ]
    },
    {
      "cell_type": "markdown",
      "metadata": {
        "id": "4rFG6wFD3dX5"
      },
      "source": [
        "## 1. Notwendige Vorbereitung!"
      ]
    },
    {
      "cell_type": "markdown",
      "metadata": {
        "id": "78UfDBGfq6qd"
      },
      "source": [
        "### 1.1 Importieren der benötigten Bibliotheken"
      ]
    },
    {
      "cell_type": "code",
      "execution_count": null,
      "metadata": {
        "id": "jxP1xPfuC4A8"
      },
      "outputs": [],
      "source": [
        "import random\n",
        "import yfinance as yf\n",
        "import pandas as pd\n",
        "import numpy as np\n",
        "from sklearn.ensemble import RandomForestClassifier\n",
        "from sklearn.linear_model import LogisticRegression\n",
        "from sklearn.metrics import classification_report, accuracy_score\n",
        "from sklearn.preprocessing import StandardScaler\n",
        "from datetime import datetime, timedelta"
      ]
    },
    {
      "cell_type": "markdown",
      "metadata": {
        "id": "CZkNeKffZRkn"
      },
      "source": [
        "Durch das importieren von **yfinance** die den alias namen **yf** können die Daten für unterschiedliche Aktien auf der Seite **Yahoo Finance** eingelesen werden.\n",
        "\n",
        "Die importierung von **pandas** (alias namen **pd**) und **numpy** (alias namen **np**) können die eingelesenen Daten Manipuliert werden beziehungsweise auch Datan Analysiert werden.\n",
        "\n",
        "Durch **sklearn.ensemble (RandomForestClassifier)** wird der Random Forest Algorithmus importiert der mehrere Entscheidungsbäume kombinieren kann, um eine Klassifizierte Vohersage zu treffen. In diesem Fahll Kauf-, Verkaufs- und Haltessignale für Aktien die für den Ansatz mit den Technischen Indikatoren verwendet wird.\n",
        "\n",
        "Durch **sklearn.linear_model (LogisticRegression)** wird das Algorithmus logistische Regression hinzugefügt die dabei hilft auf Basis der Rohdaten von der jeweiligen Aktie einen Kauf-, Verkaufs- und Haltesignale zu erstellen.\n",
        "\n",
        "Durch **sklearn.metric** wird  **classification_report** und **accuracy_score** importiert:\n",
        "\n",
        "Mit dem **classfication_report** kann das Klassfikationmodell bewertet werden über die erbrachtete leistung.\n",
        "\n",
        "durch die **accuracy_score** wird die genauigket des Klassfikationmodell errechnet.\n",
        "\n",
        "Durch die **sklearn.preprocessing** wird der **StandardScaler** importiert umnumerische Features zu skalieren das heißt der Mittelwert wird als 0 und die Standardabweichung als 1 definiert.\n",
        "\n",
        "Mit dem **Datetime**, werden Tage Stunden Minuten bzw. auch Datums dargestellt."
      ]
    },
    {
      "cell_type": "markdown",
      "metadata": {
        "id": "n3nHCfdtrC-T"
      },
      "source": [
        "### 1.2 definierung der mehrfach verwendete Variabeln"
      ]
    },
    {
      "cell_type": "code",
      "execution_count": null,
      "metadata": {
        "id": "S7shIovL3S4m"
      },
      "outputs": [],
      "source": [
        "def initialize_globals():\n",
        "    \"\"\"\n",
        "    Initialisiert und gibt die globalen Parameter für das Training und Testen zurück.\n",
        "    \"\"\"\n",
        "    random_seed = 42\n",
        "    random.seed(random_seed)\n",
        "    np.random.seed(random_seed)\n",
        "\n",
        "    train_start = '2010-01-01'\n",
        "    train_end = '2020-12-31'\n",
        "    test_start = '2021-01-01'\n",
        "\n",
        "    threshold = 2\n",
        "\n",
        "    features = ['MA5', 'MA10', 'RSI', 'UpperBand', 'LowerBand', 'Momentum', 'ROC', 'Volatility']\n",
        "    raw_features = ['Open', 'High', 'Low', 'Close', 'Volume']\n",
        "    return train_start, train_end, test_start, threshold, features, raw_features, random_seed"
      ]
    },
    {
      "cell_type": "markdown",
      "metadata": {
        "id": "d4z7O76YKvCx"
      },
      "source": [
        "Die Methode **initialize_globals()** wird verwendet, um Variablen zu definieren die häufiger verwendet werdem .\n",
        "\n",
        "```\n",
        "    train_start = '2010-01-01'\n",
        "    train_end = '2020-12-31'\n",
        "    test_start = '2021-01-01'\n",
        "```\n",
        "Diese drei Variabeln teilen die Daten auf. Einmal für Trainingszeitraum und einmal für den Testzeitraum. Die Vorteile hierbei ist das das Modell realistischer agieren kann. Desweitern kann Zeitabhängige Muster entwickelt werden, das Muster erlernen.\n",
        "\n",
        "\n",
        "```\n",
        "threshold = 2\n",
        "```\n",
        "Mit dem Threshold-Wert auch Schwellenwert genannt können wir festlegen, wie stark der Preis eines Akties verändern muss, um diesen als einen Handelssignal generieren zulassen. Konkret gesagt, ist wenn die Prozentualle Preisänderung über diesen threshold Variable liegt wird ein Kaufssignal generiert und wenn die Preisänderung unter threshold liegt wird ein Verkaufssignal generiert\n",
        "\n",
        "\n",
        "\n",
        "```\n",
        "features = ['MA5', 'MA10', 'RSI', 'UpperBand', 'LowerBand', 'Momentum', 'ROC', 'Volatility']\n",
        "```\n",
        "Mit den features werden die Technischen Indikatoren festgehalten die in unterschiedlichen Methodiken verwendet wird. Dadurch das diese Variable an unterschiedlichen Methoden verwendet wird, ist es für die wartbarkeit einfach diese auch in der initialize_globals() zu definieren.\n",
        "\n"
      ]
    },
    {
      "cell_type": "markdown",
      "metadata": {
        "id": "M7tygkMqrMBo"
      },
      "source": [
        "### 1.3 Vorbereitung der Eingabe vom Nutzer für die Aktie"
      ]
    },
    {
      "cell_type": "code",
      "execution_count": null,
      "metadata": {
        "id": "RGnFXhzaC9X0"
      },
      "outputs": [],
      "source": [
        "# Funktion zur Eingabe des Tickersymbols\n",
        "def get_ticker():\n",
        "    while True:\n",
        "        ticker = input(\"Bitte geben Sie das Tickersymbol der Aktie ein (Standard ist AAPL): \").strip().upper()\n",
        "\n",
        "        if not ticker:\n",
        "          ticker = \"AAPL\"\n",
        "\n",
        "        try:\n",
        "            # Versuche, Informationen über das Tickersymbol abzurufen\n",
        "            ticker_object = yf.Ticker(ticker).info\n",
        "\n",
        "            return ticker, ticker_object\n",
        "        except Exception:\n",
        "            print(\"Ungültiges Tickersymbol. Bitte versuchen Sie es erneut.\")"
      ]
    },
    {
      "cell_type": "markdown",
      "metadata": {
        "id": "PpnB7ou1bJ2h"
      },
      "source": [
        "In der Methode **get_ticker()** Kann der Nutzer falls erwünscht ist eine X Beliebgie Aktie auswählen (die über yfinance erreichbar ist ) eintragen.\n",
        "\n",
        "\n",
        "```\n",
        "        ticker = input(\"Bitte geben Sie das Tickersymbol der Aktie ein (Standard ist AAPL): \").strip().upper()\n",
        "        if not ticker:\n",
        "            return 'AAPL'\n",
        "```\n",
        "\n",
        "\n",
        "Falls der Nutzer nichts einträgt wird Standardmäßig die APPLE Aktie verwendet, die den Kürzel AAPL hat.\n",
        "\n",
        "Falls der Nutzer eine Aktie angibt, wird im folgenden Code versuch  an die Aktien information zu kommen.\n",
        "\n",
        "\n",
        "```\n",
        "       try:\n",
        "           # Versuche, Informationen über das Tickersymbol abzurufen\n",
        "           yf.Ticker(ticker).info\n",
        "           return ticker  \n",
        "       except Exception:\n",
        "           print(\"Ungültiges Tickersymbol. Bitte versuchen Sie es erneut.\")\n",
        "```\n",
        "Im Falle eines Fehlschlags wird der Nutzer aufgefordert bitte erneut eine Aktie anzugeben oder auch nichts anzugeben für die definierte Standard Aktie (Apple). Falls die infomationen abgerufen werden können wird die angegebene Aktie zurückgegeben.\n",
        "\n"
      ]
    },
    {
      "cell_type": "markdown",
      "metadata": {
        "id": "X-e-qEP_OXOK"
      },
      "source": [
        "## 2. Datenbeschaffung und - aufbereitung"
      ]
    },
    {
      "cell_type": "markdown",
      "metadata": {
        "id": "_AHyo0mrrap3"
      },
      "source": [
        "### 2.1 Datenbeschaffung und Datenanzeige"
      ]
    },
    {
      "cell_type": "code",
      "execution_count": null,
      "metadata": {
        "id": "zISTWrtuUrkV"
      },
      "outputs": [],
      "source": [
        "def get_stock_data():\n",
        "    while True:\n",
        "        ticker, ticker_object = get_ticker()\n",
        "        start_date = '2010-01-01'\n",
        "        try:\n",
        "            data = yf.download(ticker,start = start_date)\n",
        "            if data.empty:\n",
        "                raise ValueError(\"Keine Daten für dieses Tickersymbol gefunden.\")\n",
        "            print(\"\\n\")\n",
        "            print(\"Aktie: \" + ticker_object.get('longName') + \" wurde erfolgreich Heruntergeladen\")\n",
        "            print(\"Anzahl der Daten: \" + str(len(data)))\n",
        "            print(\"\\n\")\n",
        "            return data\n",
        "        except Exception:\n",
        "            print(\"Fehler beim Herunterladen der Daten. Bitte versuchen Sie es erneut.\")"
      ]
    },
    {
      "cell_type": "markdown",
      "metadata": {
        "id": "odXc4uWRjsDA"
      },
      "source": [
        "In der Methode **get_stock_data()** wird die Methode **get_ticker** aufgerufen, um die gewünschte Aktie zu erhalten.\n",
        "```\n",
        "    ticker, ticker_object = get_ticker()\n",
        "```\n",
        "\n",
        "Nachdem die gewünschte Aktie eingeholt wurde, werden die benötigten Rohdaten heruntergeladen und in die Variable \"data\" gespeichert.\n",
        "```\n",
        "    try:\n",
        "        data = yf.download(ticker,start = start_date)\n",
        "```\n",
        "Nachfolgend wird geprüft, ob die heruntergeladenen Daten leer sind.\n",
        "\n",
        "```\n",
        "if data.empty:\n",
        "            raise ValueError(\"Keine Daten für dieses Tickersymbol gefunden.\")\n",
        "```\n",
        "Falls die Daten Leer sind wird man aufgefordert wieder eine Aktie anzugeben.\n",
        "Falls die Daten nicht leer sind wird dann der Anfang und das Ende der Datensatzes angezeigt\n",
        "\n",
        "\n",
        "```\n",
        "            print(\"\\n\")\n",
        "            print(\"Aktie: \" + ticker_object.get('longName') + \" wurde erfolgreich Heruntergeladen\")\n",
        "            print(data.head())\n",
        "            print(data.tail())\n",
        "            print(\"\\n\")\n",
        "            return data\n",
        "```\n",
        "\n",
        "\n",
        "\n",
        "\n",
        "\n",
        "\n",
        "\n"
      ]
    },
    {
      "cell_type": "markdown",
      "metadata": {
        "id": "gSzB9jcnrh07"
      },
      "source": [
        "### 2.2 Berechnungen der Technischen Indikatoren"
      ]
    },
    {
      "cell_type": "markdown",
      "metadata": {
        "id": "4bfhHvrN3ERD"
      },
      "source": [
        "#### 2.2.1 Berechnung vom Moving Avarage"
      ]
    },
    {
      "cell_type": "code",
      "execution_count": null,
      "metadata": {
        "id": "axVGoAQ0VVRW"
      },
      "outputs": [],
      "source": [
        "def calculate_moving_averages(data):\n",
        "    data['MA5'] = data['Adj Close'].rolling(window=5).mean()\n",
        "    data['MA10'] = data['Adj Close'].rolling(window=10).mean()\n",
        "    print(\"\\n\")\n",
        "    print(\"Berechnung der Moving Averages MA5 und MA10\")\n",
        "    print(\"\\n\")\n",
        "    return data"
      ]
    },
    {
      "cell_type": "markdown",
      "metadata": {
        "id": "m_GzxwTkrmVJ"
      },
      "source": [
        "In der Methode **calculate_moving_averages(data)** wird der gleitenden Durchschnitt der letzten 5 Tage und der letzten 10 Tage für den bereinigten Schlusskurs (Adj Close) ermittelt.\n",
        "```\n",
        "    data['MA5'] = data['Adj Close'].rolling(window=5).mean()\n",
        "```\n",
        "Der gleitende Durchschnitt für die letzten 5 Tage hilft für die identifizierung von kurzfristige Kauf- und Verkaufssignale\n",
        "```\n",
        "    data['MA10'] = data['Adj Close'].rolling(window=10).mean()\n",
        "```\n",
        "Der gleitende Durchschnitt für die letzten 10 Tage gibt an in welche richtung die Aktie sich entwickelt.\n",
        "\n",
        "\n",
        "Diese zwei gleitende Durchschnitte werden in das DataFrame(data) mit aufgnommen unter der Spalten Namen \"MA5\" und \"MA10\" und wird als ganzes DataFrame zurückgegeben ``` return data ```"
      ]
    },
    {
      "cell_type": "markdown",
      "metadata": {
        "id": "p0UvtAmO3RhO"
      },
      "source": [
        "#### 2.2.2 Berechnung vom Relative Strength Index (RSI)"
      ]
    },
    {
      "cell_type": "code",
      "execution_count": null,
      "metadata": {
        "id": "k_UrRgPjWDDL"
      },
      "outputs": [],
      "source": [
        "def calculate_rsi(data):\n",
        "    delta = data['Adj Close'].diff(1)\n",
        "    gain = delta.where(delta > 0, 0)\n",
        "    loss = -delta.where(delta < 0, 0)\n",
        "    avg_gain = gain.rolling(window=14).mean()\n",
        "    avg_loss = loss.rolling(window=14).mean()\n",
        "    rs = avg_gain / avg_loss\n",
        "    data['RSI'] = 100 - (100 / (1 + rs))\n",
        "    print(\"Berechnung des Relative Strength Index(RSI)\")\n",
        "    print(\"\\n\")\n",
        "    return data"
      ]
    },
    {
      "cell_type": "markdown",
      "metadata": {
        "id": "sgysnRTE9Nei"
      },
      "source": [
        "Die Methode **calculate_rsi(data)** brechnet den Relative Strength Index die in der technischen Analyse hilft, um den Dynamik und das Momentum einer Aktie zu beurteilen.\n",
        "\n",
        "Die Formel für **RSI** lautet: ``` RSI = 100 - (100 / (1 + RS)) ```\n",
        "\n",
        "Die Formel für **RS** lautet: ```RS = Durschnittlicher Gewinn / Durchschnittlicher Verlust```\n",
        "\n",
        "```\n",
        "    delta = data['Adj Close'].diff(1)\n",
        "```\n",
        "In der Variable delta werden tägliche Preisänderungen gespeichert\n",
        "\n",
        "```\n",
        "    gain = delta.where(delta > 0, 0)\n",
        "    loss = -delta.where(delta < 0, 0)\n",
        "```\n",
        "In ```gain```\n",
        "werden die tägliche positive Preisänderungen aus ```delta```\n",
        "gefiltert, während in ```loss``` die tägliche negative Preisänderung gefiltert wird.\n",
        "```\n",
        "    avg_gain = gain.rolling(window=14).mean()\n",
        "    avg_loss = loss.rolling(window=14).mean()\n",
        "    rs = avg_gain / avg_loss\n",
        "```\n",
        "Infolge dessen werden die durchschnittliche Gewinn in ```avg_gain```\n",
        " / Verlust in ```avg_loss``` der letzten 14 Tage berechnet.\n",
        "\n",
        " Im Anschluss werden diese zwei Variable devidiert (Siehe oben RS Formel) und in der Variable ```rs``` abgelagert\n",
        "```\n",
        "    data['RSI'] = 100 - (100 / (1 + rs))\n",
        "```\n",
        "Als letztes wird der RSI berechnet in dem die Formel eingesetzt wird.\n",
        "\n",
        "Der RSI wird im ```DataFrame(data)```\n",
        "mit aufgnommen unter der Spalten Name \"RSI\" und wird als ganzes DataFrame zurückgegeben ``` return data ```\n",
        "\n",
        "\n",
        "\n",
        "\n",
        "\n",
        "\n",
        "\n"
      ]
    },
    {
      "cell_type": "markdown",
      "metadata": {
        "id": "hkIKFVhi3a4s"
      },
      "source": [
        "#### 2.2.3 Berechnung vom Bollinger Bänds"
      ]
    },
    {
      "cell_type": "code",
      "execution_count": null,
      "metadata": {
        "id": "qwhHU7ChWyYP"
      },
      "outputs": [],
      "source": [
        "def calculate_bollinger_bands(data):\n",
        "    data['MiddleBand'] = data['Adj Close'].rolling(window=20).mean()\n",
        "    data['UpperBand'] = data['MiddleBand'] + 2 * data['Adj Close'].rolling(window=20).std()\n",
        "    data['LowerBand'] = data['MiddleBand'] - 2 * data['Adj Close'].rolling(window=20).std()\n",
        "    print(\"Berechnung des Bollinger Bänder\")\n",
        "    print(\"\\n\")\n",
        "    return data"
      ]
    },
    {
      "cell_type": "markdown",
      "metadata": {
        "id": "Ry2BL05V2vaj"
      },
      "source": [
        "\n",
        "\n",
        "In der Methode ```calculate_bollinger_bands(data)``` werden die Bollinger Bänder für die gegebenen Aktiendaten berechnet. Bollinger Bänder sind ein technischer Indikator, der die Volatilität und potenzielle Trendwenden einer Aktie visualisiert.\n",
        "```\n",
        "data['MiddleBand'] = data['Adj Close'].rolling(window=20).mean()\n",
        "```\n",
        "\n",
        "Mit dem mittlere Band wird der gleitende Durchschnitt des bereinigten Schlusskurses (Adj Close) über die letzten 20 Tage (window=20) berechnet und in einer neuen Spalte namens MiddleBand im DataFrame gespeichert.\n",
        "```\n",
        "data['UpperBand'] = data['MiddleBand'] + 2 * data['Adj Close'].rolling(window=20).std()\n",
        "```\n",
        "Hier wird das obere Band berechnet. Es wird zum mittleren Band das Doppelte (2 *) der Standardabweichung des bereinigten Schlusskurses über die letzten 20 Tage addiert. Das Ergebnis wird in der Spalte UpperBand gespeichert.\n",
        "```\n",
        "data['LowerBand'] = data['MiddleBand'] - 2 * data['Adj Close'].rolling(window=20).std()\n",
        "```\n",
        "Hier wird das untere Band berechnet. Es wird vom mittleren Band das Doppelte der Standardabweichung des bereinigten Schlusskurses über die letzten 20 Tage subtrahiert. Das Ergebnis wird in der Spalte LowerBand gespeichert.\n",
        "\n",
        "```return data```\n",
        " Die Funktion gibt den aktualisierten DataFrame zurück, der nun die drei neuen Spalten für die Bollinger Bänder enthält.\n"
      ]
    },
    {
      "cell_type": "markdown",
      "metadata": {
        "id": "JAmirkfZ3hGa"
      },
      "source": [
        "#### 2.2.4 Berechnung von weiteren Indkatoren"
      ]
    },
    {
      "cell_type": "code",
      "execution_count": null,
      "metadata": {
        "id": "f7QSFqzrXO0m"
      },
      "outputs": [],
      "source": [
        "def calculate_additional_indicators(data):\n",
        "    data['Momentum'] = data['Adj Close'] - data['Adj Close'].shift(4)\n",
        "    data['ROC'] = data['Adj Close'].pct_change(periods=10) * 100\n",
        "    data['PriceChange'] = data['Adj Close'].pct_change() * 100\n",
        "    data['Volatility'] = data['Adj Close'].rolling(window=10).std()\n",
        "    print(\"Berechnung weiterer Indikatoren\")\n",
        "    print(\"\\n\")\n",
        "    return data"
      ]
    },
    {
      "cell_type": "markdown",
      "metadata": {
        "id": "3dEQtzOfceRJ"
      },
      "source": [
        "In der Methode ```calculate_additional_indicators(data)``` werden weitere technische Indikatoren berechnet, die für die Analyse und Vorhersage von Aktienkursen verwendet werden können.\n",
        "```\n",
        "data['Momentum'] = data['Adj Close'] - data['Adj Close'].shift(4)\n",
        "```\n",
        "Das Momentum wird berechnet, indem der aktuelle bereinigte Schlusskurs (Adj Close) mit dem Kurs von vor 4 Tagen verglichen wird. Das Momentum gibt die Stärke einer Kursbewegung an.\n",
        "\n",
        "```\n",
        "data['ROC'] = data['Adj Close'].pct_change(periods=10) * 100\n",
        "```\n",
        "Als nächstes wird die Rate of Change (ROC) berechnet, die die prozentuale Veränderung des bereinigten Schlusskurses über die letzten 10 Tage angibt. Die ROC hilft, die Geschwindigkeit einer Kursbewegung zu beurteilen.\n",
        "```\n",
        "data['PriceChange'] = data['Adj Close'].pct_change() * 100\n",
        "```\n",
        "Ein weiterer Indikator ist dietägliche prozentuale Veränderung des bereinigten Schlusskurses berechnet. Diese Kennzahl gibt an, wie stark sich der Kurs an einem bestimmten Tag verändert hat.\n",
        "```\n",
        "data['Volatility'] = data['Adj Close'].rolling(window=10).std()\n",
        "```\n",
        "die Volatilität wird durch ddes bereinigten Schlusskurses über die letzten 10 Tage berechnet. Die Volatilität ist ein Maß für die Schwankungsbreite des Kurses und gibt an, wie stark der Kurs in einem bestimmten Zeitraum schwankt.\n",
        "\n",
        "```return data```\n",
        " Die Funktion gibt den aktualisierten DataFrame zurück, der nun die vier neuen Spalten für die zusätzlichen Indikatoren enthält.\n"
      ]
    },
    {
      "cell_type": "markdown",
      "metadata": {
        "id": "ITWyW2eiv4fy"
      },
      "source": [
        "#### 2.2.5 Generierung vom Kauf- und Verkaufssignale"
      ]
    },
    {
      "cell_type": "code",
      "execution_count": null,
      "metadata": {
        "id": "YKSMec14ci7p"
      },
      "outputs": [],
      "source": [
        "def calculate_signal(data, threshold,text):\n",
        "    data['Signal'] = 0\n",
        "    data.loc[data['PriceChange'] > threshold, 'Signal'] = 1\n",
        "    data.loc[data['PriceChange'] < -threshold, 'Signal'] = -1\n",
        "    if text is not None:\n",
        "      print(\"Berechnung der Signal\")\n",
        "      print(\"\\n\")\n",
        "    return data"
      ]
    },
    {
      "cell_type": "markdown",
      "metadata": {
        "id": "Vitjw-_rLNtP"
      },
      "source": [
        "In der Methode ```calculate_signal``` werden die Preisveränderungen nach dem Schwellenwert (threshold) geschaut, ob dieser über oder unterhalb der schwellenwert ist und dem entsprechend ein Kauf- (1) oder Verkaussignal (-1) generiert wird."
      ]
    },
    {
      "cell_type": "markdown",
      "metadata": {
        "id": "UGN3BXi087e0"
      },
      "source": [
        "#### 2.2.6 Pipeline der Datenvorbereitung und Anpassung"
      ]
    },
    {
      "cell_type": "code",
      "execution_count": null,
      "metadata": {
        "id": "4k804nfW4LRO"
      },
      "outputs": [],
      "source": [
        "def prepare_data_pipeline(data):\n",
        "    data = calculate_moving_averages(data)\n",
        "    data = calculate_rsi(data)\n",
        "    data = calculate_bollinger_bands(data)\n",
        "    data = calculate_additional_indicators(data)\n",
        "    data.dropna(inplace=True)\n",
        "    print(\"Pipeline der Datenvorbereitung und Anpassung\")\n",
        "    print(\"--------------------Vollständige Aufbereitung--------------------\")\n",
        "    print(data.head())\n",
        "    print(data.tail())\n",
        "    print(\"-----------------------------------------------------------------\")\n",
        "    print(\"\\n\")\n",
        "    return data"
      ]
    },
    {
      "cell_type": "markdown",
      "metadata": {
        "id": "LbgAAQNveWUC"
      },
      "source": [
        "In der Methode ```prepare_data_pipeline(data)``` wird die Heruntergeladene Aktie Vorbereitet in dem alle benötigten Indikatoren dem DataFrame(data) hinzugefügt werden."
      ]
    },
    {
      "cell_type": "markdown",
      "metadata": {
        "id": "u1vDibkvO5Dc"
      },
      "source": [
        "## 3. Modelltraining und -bewertung"
      ]
    },
    {
      "cell_type": "markdown",
      "metadata": {
        "id": "nJmwiv7bvbx2"
      },
      "source": [
        "### 3.1 Vorbereitung der Training- und Testdaten"
      ]
    },
    {
      "cell_type": "markdown",
      "metadata": {
        "id": "34l97SEYwZUI"
      },
      "source": [
        "#### 3.1.1 Trennung der Daten für Training und Test"
      ]
    },
    {
      "cell_type": "code",
      "execution_count": null,
      "metadata": {
        "id": "_mu4CeV6cNnu"
      },
      "outputs": [],
      "source": [
        "def prepare_data(data, train_start, train_end, test_start):\n",
        "    train_data = data.loc[train_start:train_end].copy()\n",
        "    test_data = data.loc[test_start:].copy()\n",
        "    return train_data, test_data"
      ]
    },
    {
      "cell_type": "markdown",
      "metadata": {
        "id": "JoB12btMfGzf"
      },
      "source": [
        "In der Funktion ```prepare_data``` werden die vorhandenen Aktiendaten in zwei separate Datensätze aufgeteilt: einen für das Training des Modells und einen zum Testen des Modells.\n",
        "\n",
        "Um sicherzustellen, dass die ursprünglichen Daten nicht versehentlich verändert werden, werden Kopien der jeweiligen Zeiträume erstellt und zurückgegeben."
      ]
    },
    {
      "cell_type": "markdown",
      "metadata": {
        "id": "BXsBHQ_QwMnR"
      },
      "source": [
        "#### 3.1.2 Extrahieren der Features und des Zielwerts"
      ]
    },
    {
      "cell_type": "code",
      "execution_count": null,
      "metadata": {
        "id": "7727oDkIcjG-"
      },
      "outputs": [],
      "source": [
        "def extract_features_and_target(data, features):\n",
        "    X = data[features]\n",
        "    y = data['Signal']\n",
        "    return X, y"
      ]
    },
    {
      "cell_type": "markdown",
      "metadata": {
        "id": "N5D5SZ1NvNRd"
      },
      "source": [
        "Im ```extract_features_and_target``` werden die Daten für das Maschinen learning vorbereitet."
      ]
    },
    {
      "cell_type": "markdown",
      "metadata": {
        "id": "ZsP0xmNNxA5S"
      },
      "source": [
        "### 3.2 Ausführung der Trainingsmodelle"
      ]
    },
    {
      "cell_type": "markdown",
      "metadata": {
        "id": "cCVz3kjvwt38"
      },
      "source": [
        "#### 3.2 Trainingsmodell mit Technischen Indikatoren"
      ]
    },
    {
      "cell_type": "code",
      "execution_count": null,
      "metadata": {
        "id": "0nxEM3OLDSn-"
      },
      "outputs": [],
      "source": [
        "def train_model(train_data, features, threshold, random_seed):\n",
        "    \"\"\"\n",
        "    Trainiert ein RandomForest-Modell mit den gegebenen Trainingsdaten und den ausgewählten Features.\n",
        "    \"\"\"\n",
        "    train_data = calculate_signal(train_data, threshold, None)\n",
        "    X_train, y_train = extract_features_and_target(train_data, features)\n",
        "    model = RandomForestClassifier(n_estimators=100, random_state=random_seed)\n",
        "    model.fit(X_train, y_train)\n",
        "    return model"
      ]
    },
    {
      "cell_type": "markdown",
      "metadata": {
        "id": "-zYIwua5y-HY"
      },
      "source": [
        "Die Funktion ```train_model``` trainiert ein leistungsstarkes Random Forest Modell zur Vorhersage von Handelssignalen"
      ]
    },
    {
      "cell_type": "code",
      "execution_count": null,
      "metadata": {
        "id": "Xa6DNoOiDUPw"
      },
      "outputs": [],
      "source": [
        "def evaluate_model(test_data, model, features, threshold):\n",
        "    \"\"\"\n",
        "    Bewertet das trainierte Modell mit den Testdaten und gibt die Ergebnisse aus.\n",
        "    \"\"\"\n",
        "    test_data = calculate_signal(test_data, threshold, None)\n",
        "    X_test, y_test = extract_features_and_target(test_data, features)\n",
        "    y_pred = model.predict(X_test)\n",
        "    print(\"Ergebnisse für RandomForest-Modell:\")\n",
        "    print(classification_report(y_test, y_pred))\n",
        "    print(f\"Accuracy: {accuracy_score(y_test, y_pred):.2f}\\n\")"
      ]
    },
    {
      "cell_type": "markdown",
      "metadata": {
        "id": "GZ-Lthz5zbY5"
      },
      "source": [
        "Die Funktion ```evaluate_model``` überprüft die Genauigkeit des trainierten Random Forest Modells."
      ]
    },
    {
      "cell_type": "markdown",
      "metadata": {
        "id": "vvcJSKapw0X-"
      },
      "source": [
        "#### 3.3 Trainingsmodell mit Rohdaten"
      ]
    },
    {
      "cell_type": "code",
      "execution_count": null,
      "metadata": {
        "id": "GgknaQc6DhOx"
      },
      "outputs": [],
      "source": [
        "# Funktion zum Training und zur Vorhersage mit Rohdaten\n",
        "def train_and_predict_raw_data(data, threshold, train_start, train_end, test_start, raw_features, random_seed,verbose=False ):\n",
        "\n",
        "\n",
        "\n",
        "    data = calculate_signal(data, threshold,\"für Rohdaten\")\n",
        "    data.dropna(inplace=True)\n",
        "\n",
        "    train_data, test_data = prepare_data(data, train_start, train_end, test_start)\n",
        "\n",
        "    X_train_raw, y_train_raw = extract_features_and_target(train_data, raw_features)\n",
        "    X_test_raw, y_test_raw = extract_features_and_target(test_data, raw_features)\n",
        "\n",
        "    scaler = StandardScaler()\n",
        "    X_train_raw = scaler.fit_transform(X_train_raw)\n",
        "    X_test_raw = scaler.transform(X_test_raw)\n",
        "\n",
        "    model_raw = LogisticRegression(random_state = random_seed)\n",
        "\n",
        "    model_raw.fit(X_train_raw, y_train_raw)\n",
        "\n",
        "    y_pred_raw = model_raw.predict(X_test_raw)\n",
        "\n",
        "    if verbose:\n",
        "        print(\"Ergebnisse für Rohdaten-Modell:\")\n",
        "    print(classification_report(y_test_raw, y_pred_raw))\n",
        "    print(\"Accuracy:\", accuracy_score(y_test_raw, y_pred_raw))\n",
        "\n",
        "    return model_raw, scaler"
      ]
    },
    {
      "cell_type": "markdown",
      "metadata": {
        "id": "uANZYaGjzrSy"
      },
      "source": [
        "Die Funktion ```train_and_predict_raw_data``` trainiert ein zusätzliches Modell basierend auf den Rohdaten\n",
        "```(OHLCV - Open, High, Low, Close, Volume)``` der Aktie. Dieses Modell liefert eine alternative Perspektive und kann die Vorhersagegenauigkeit weiter verbessern."
      ]
    },
    {
      "cell_type": "markdown",
      "metadata": {
        "id": "u8XLg7V6PUYs"
      },
      "source": [
        "## 4. Vorhersagen\n"
      ]
    },
    {
      "cell_type": "markdown",
      "metadata": {
        "id": "7-J8I00Fz-GK"
      },
      "source": [
        "### 4.1 Vorhersage mit technischen Indikatoren"
      ]
    },
    {
      "cell_type": "code",
      "execution_count": null,
      "metadata": {
        "id": "OIwyPD8tDVZC"
      },
      "outputs": [],
      "source": [
        "# Funktion zur Vorhersage für ein Datum mit RandomForest-Modell\n",
        "def predict_for_date(prediction_date, data, model, features):\n",
        "    start_date = prediction_date - timedelta(days=10)\n",
        "    end_date = prediction_date - timedelta(days=1)\n",
        "    last_10_days = data.loc[start_date:end_date]\n",
        "    if last_10_days.empty:\n",
        "        return None, None, None, None\n",
        "\n",
        "    last_10_days_features = last_10_days[features].tail(1)\n",
        "\n",
        "    prediction = model.predict(last_10_days_features)\n",
        "\n",
        "    if prediction_date in data.index:\n",
        "        prediction_price = data.loc[prediction_date]['Adj Close']\n",
        "    else:\n",
        "        prediction_price = None\n",
        "\n",
        "    next_day = prediction_date + timedelta(days=1)\n",
        "    if next_day in data.index:\n",
        "        next_day_price = data.loc[next_day]['Adj Close']\n",
        "    else:\n",
        "        next_day_price = None\n",
        "\n",
        "    prediction_label = 'Kauf' if prediction[0] == 1 else 'Verkauf' if prediction[0] == -1 else 'Halten'\n",
        "\n",
        "    return prediction_date, prediction_price, next_day_price, prediction_label"
      ]
    },
    {
      "cell_type": "markdown",
      "metadata": {
        "id": "xhZ9EeBCz6nK"
      },
      "source": [
        "Die Funktion ```predict_for_date``` ermöglicht es, gezielt für ein bestimmtes Datum ein Handelssignal zu generieren. Anhand der Kursdaten der letzten 10 Tage wird eine Vorhersage getroffen, ob die Aktie an dem gewählten Tag gekauft, gehalten oder verkauft werden sollte."
      ]
    },
    {
      "cell_type": "markdown",
      "metadata": {
        "id": "t6RsfPpX0Ogj"
      },
      "source": [
        "### 4.2 Vorhersage mit Rohdaten"
      ]
    },
    {
      "cell_type": "code",
      "execution_count": null,
      "metadata": {
        "id": "GSqHZYulDbdd"
      },
      "outputs": [],
      "source": [
        "# Funktion zur Vorhersage für ein Datum mit Rohdaten-Modell\n",
        "def predict_for_date_raw(prediction_date, data, model, scaler):\n",
        "    start_date = prediction_date - timedelta(days=10)\n",
        "    end_date = prediction_date - timedelta(days=1)\n",
        "\n",
        "    last_10_days = data.loc[start_date:end_date]\n",
        "    if last_10_days.empty:\n",
        "        return None, None, None, None\n",
        "\n",
        "    last_10_days_raw_features = last_10_days[['Open', 'High', 'Low', 'Close', 'Volume']].tail(1)\n",
        "    last_10_days_raw_features = scaler.transform(last_10_days_raw_features)\n",
        "\n",
        "    prediction = model.predict(last_10_days_raw_features)\n",
        "\n",
        "    if prediction_date in data.index:\n",
        "        prediction_price = data.loc[prediction_date]['Adj Close']\n",
        "    else:\n",
        "        prediction_price = None\n",
        "\n",
        "    next_day = prediction_date + timedelta(days=1)\n",
        "    if next_day in data.index:\n",
        "        next_day_price = data.loc[next_day]['Adj Close']\n",
        "    else:\n",
        "        next_day_price = None\n",
        "\n",
        "    prediction_label = 'Kauf' if prediction[0] == 1 else 'Verkauf' if prediction[0] == -1 else 'Halten'\n",
        "\n",
        "    return prediction_date, prediction_price, next_day_price, prediction_label\n"
      ]
    },
    {
      "cell_type": "markdown",
      "metadata": {
        "id": "GFEDqa3d0Xzy"
      },
      "source": [
        "Die Funktion ```predict_for_date_raw``` nutzt die Rohdaten (OHLCV) der Aktie, um gezielt für ein bestimmtes Datum ein Handelssignal (Kauf, Halten, Verkauf) zu generieren."
      ]
    },
    {
      "cell_type": "markdown",
      "metadata": {
        "id": "hOnqfh_Z01Vq"
      },
      "source": [
        "### 4.3 Vorhersage für die Simulation trading"
      ]
    },
    {
      "cell_type": "markdown",
      "metadata": {
        "id": "mB9BRvNg1Mv3"
      },
      "source": [
        "#### 4.3.1 Handelssignale für einen Zeitraum generieren"
      ]
    },
    {
      "cell_type": "code",
      "execution_count": null,
      "metadata": {
        "id": "MBLJgVrRzyuE"
      },
      "outputs": [],
      "source": [
        "def generate_predictions(data, model, model_raw, scaler, features, start_date, end_date):\n",
        "    results_rf = []\n",
        "    results_raw = []\n",
        "    current_date = start_date\n",
        "\n",
        "    while current_date <= end_date:\n",
        "        rf_result = predict_for_date(current_date, data, model, features)\n",
        "        raw_result = predict_for_date_raw(current_date, data, model_raw, scaler)\n",
        "\n",
        "        if rf_result[0] is not None and rf_result[1] is not None:\n",
        "            results_rf.append(rf_result)\n",
        "        if raw_result[0] is not None and raw_result[1] is not None:\n",
        "            results_raw.append(raw_result)\n",
        "\n",
        "        current_date += timedelta(days=1)\n",
        "\n",
        "    return results_rf, results_raw"
      ]
    },
    {
      "cell_type": "markdown",
      "metadata": {
        "id": "vNosd82v08zT"
      },
      "source": [
        "Die Funktion ```generate_predictions``` berechnet Handelssignale für jeden Tag innerhalb eines bestimmten Zeitraums, sowohl basierend auf technischen Indikatoren als auch auf Rohdaten. Diese Signale dienen als Grundlage für die spätere Simulation und Bewertung der Handelsstrategie."
      ]
    },
    {
      "cell_type": "markdown",
      "metadata": {
        "id": "XCbzfoDE1Z1f"
      },
      "source": [
        "#### 4.3.2 Vorhersagen für 2022 durchführen und speichern"
      ]
    },
    {
      "cell_type": "code",
      "execution_count": null,
      "metadata": {
        "id": "nXQN_cwCF1yr"
      },
      "outputs": [],
      "source": [
        "def run_predictions(data, model, model_raw, scaler, features):\n",
        "    \"\"\"\n",
        "    Generiert Vorhersagen für das Jahr 2022, formatiert die Ergebnisse und speichert sie.\n",
        "    \"\"\"\n",
        "    start_date_2022 = datetime(2022, 1, 1)\n",
        "    end_date_2022 = datetime(2022, 12, 31)\n",
        "\n",
        "    results_rf, results_raw = generate_predictions(data, model, model_raw, scaler, features, start_date_2022, end_date_2022)\n",
        "    df_rf, df_raw = format_results(results_rf, results_raw)\n",
        "\n",
        "    save_results(df_rf, df_raw)\n",
        "    return df_rf, df_raw\n"
      ]
    },
    {
      "cell_type": "markdown",
      "metadata": {
        "id": "BhrutUHL1kAh"
      },
      "source": [
        "Die Funktion ```run_predictions``` führt den gesamten Prozess der Erstellung, Formatierung und Speicherung von Handelssignalen für das Jahr 2022 durch."
      ]
    },
    {
      "cell_type": "markdown",
      "metadata": {
        "id": "yNyFx2TH2_Ec"
      },
      "source": [
        "#### 4.3.3 Vorhersageergebnisse optimieren"
      ]
    },
    {
      "cell_type": "code",
      "execution_count": null,
      "metadata": {
        "id": "poiNwIyEF4Kh"
      },
      "outputs": [],
      "source": [
        "def format_results(results_rf, results_raw):\n",
        "    \"\"\"\n",
        "    Formatiert die Vorhersageergebnisse und bereitet sie für die Speicherung vor.\n",
        "    \"\"\"\n",
        "    df_rf = pd.DataFrame(results_rf, columns=['Datum', 'Preis', 'Nächster Tag Preis', 'Vorhersage_RF'])\n",
        "    df_raw = pd.DataFrame(results_raw, columns=['Datum', 'Preis', 'Nächster Tag Preis', 'Vorhersage_Raw'])\n",
        "\n",
        "    df_rf = df_rf.drop(columns=['Nächster Tag Preis']).dropna(subset=['Preis'])\n",
        "    df_raw = df_raw.drop(columns=['Nächster Tag Preis']).dropna(subset=['Preis'])\n",
        "\n",
        "    return df_rf, df_raw"
      ]
    },
    {
      "cell_type": "markdown",
      "metadata": {
        "id": "PL2JbiUF3RiJ"
      },
      "source": [
        "Die Funktion ```format_results``` bereitet die generierten Vorhersageergebnisse für die spätere Verwendung auf, indem sie unnötige Spalten entfernt und fehlende Werte behandelt."
      ]
    },
    {
      "cell_type": "markdown",
      "metadata": {
        "id": "hf338_nm3BcX"
      },
      "source": [
        "#### 4.3.4 Speicherung der Vohersageergebnisse"
      ]
    },
    {
      "cell_type": "code",
      "execution_count": null,
      "metadata": {
        "id": "lKb2CkgFF5w-"
      },
      "outputs": [],
      "source": [
        "def save_results(df_rf, df_raw):\n",
        "    \"\"\"\n",
        "    Speichert die formatierten Ergebnisse als CSV-Dateien.\n",
        "    \"\"\"\n",
        "    df_rf.to_csv('results_rf_2022.csv', index=False)\n",
        "    df_raw.to_csv('results_raw_2022.csv', index=False)\n",
        "    print(\"CSV-Dateien für das Jahr 2022 wurden gespeichert.\\n\")"
      ]
    },
    {
      "cell_type": "markdown",
      "metadata": {
        "id": "GVDQyIVX3hLC"
      },
      "source": [
        "Die Funktion ```save_results``` speichert die aufbereiteten Vorhersageergebnisse in CSV-Dateien, um sie dauerhaft zu sichern und für weitere Analysen verfügbar zu machen."
      ]
    },
    {
      "cell_type": "markdown",
      "metadata": {
        "id": "DqoNPz8nPviN"
      },
      "source": [
        "## 5. Simulation"
      ]
    },
    {
      "cell_type": "markdown",
      "metadata": {
        "id": "FZsmb1WY3qEa"
      },
      "source": [
        "### 5.1 Handelsstrategie simulieren"
      ]
    },
    {
      "cell_type": "code",
      "execution_count": null,
      "metadata": {
        "id": "e_cheh_KDoVh"
      },
      "outputs": [],
      "source": [
        "# Funktion zur Durchführung der Simulation\n",
        "def simulate_trading(df, initial_balance=1000, verbose=False):\n",
        "    balance = initial_balance\n",
        "    holdings = 0\n",
        "    last_action = None\n",
        "    last_action_date = None\n",
        "\n",
        "    results = []\n",
        "\n",
        "    for index, row in df.iterrows():\n",
        "        date = row['Datum']\n",
        "        price = row['Preis']\n",
        "        action = row['Vorhersage_RF'] if 'Vorhersage_RF' in row else row['Vorhersage_Raw']\n",
        "\n",
        "        if action == 'Kauf' and (last_action != 'Kauf' or last_action_date is None or (date - last_action_date).days > 1):\n",
        "            if balance > 0:\n",
        "                holdings = balance / price\n",
        "                balance = 0\n",
        "                last_action = 'Kauf'\n",
        "                last_action_date = date\n",
        "                if verbose:\n",
        "                    print(f\"{date}: Kauf für {price:.2f}. Guthaben: {balance:.2f}, Bestände: {holdings:.2f} Aktien\")\n",
        "\n",
        "        elif action == 'Verkauf' and (last_action != 'Verkauf' or last_action_date is None or (date - last_action_date).days > 1):\n",
        "            if holdings > 0:\n",
        "                balance = holdings * price\n",
        "                holdings = 0\n",
        "                last_action = 'Verkauf'\n",
        "                last_action_date = date\n",
        "                if verbose:\n",
        "                    print(f\"{date}: Verkauf für {price:.2f}. Guthaben: {balance:.2f}, Bestände: {holdings:.2f} Aktien\")\n",
        "\n",
        "        results.append({\n",
        "            'Datum': date,\n",
        "            'Guthaben': balance,\n",
        "            'Bestände': holdings * price if holdings > 0 else 0\n",
        "        })\n",
        "\n",
        "    # Endwert berechnen\n",
        "    end_value = balance + holdings * price if holdings > 0 else balance\n",
        "\n",
        "    # Prozentualen Gewinn/Verlust berechnen\n",
        "    profit_loss_percent = ((end_value - initial_balance) / initial_balance) * 100\n",
        "\n",
        "    if verbose:\n",
        "        print(f\"Endwert der Simulation: {end_value:.2f} Euro\")\n",
        "        print(f\"Prozentualer Gewinn/Verlust: {profit_loss_percent:.2f}%\")\n",
        "\n",
        "    return balance, end_value, profit_loss_percent\n"
      ]
    },
    {
      "cell_type": "markdown",
      "metadata": {
        "id": "KrUj7m1c31NE"
      },
      "source": [
        "Die Funktion ```simulate_trading``` simuliert den Aktienhandel basierend auf den generierten Handelssignalen. Mit einem virtuellen Startkapital werden Kauf- und Verkaufsentscheidungen über einen bestimmten Zeitraum simuliert. Das Ergebnis der Simulation gibt Aufschluss über die potenzielle Performance der Handelsstrategie."
      ]
    },
    {
      "cell_type": "markdown",
      "metadata": {
        "id": "_tu6bDfG3rAU"
      },
      "source": [
        "### 5.2 Auswertung der Simulation"
      ]
    },
    {
      "cell_type": "code",
      "execution_count": null,
      "metadata": {
        "id": "pVeXpEmrGCnh"
      },
      "outputs": [],
      "source": [
        "def simulate_and_evaluate(df_rf, df_raw):\n",
        "    \"\"\"\n",
        "    Führt die Simulation von Trading-Strategien durch und speichert die Ergebnisse.\n",
        "    \"\"\"\n",
        "    print(\"Simulation für technischer Indikator:\")\n",
        "    start_balance_rf, end_balance_rf, profit_loss_percent_rf = simulate_trading(df_rf, verbose=False)\n",
        "    print(f\"Simulation technischer Indikator: Start: 1000€, Ende: {end_balance_rf:.2f}€, Gewinn/Verlust: {profit_loss_percent_rf:.2f}%\")\n",
        "    pd.DataFrame([{'Start': 1000, 'Ende': end_balance_rf, \"Gewinn/Verlust\": profit_loss_percent_rf}]).to_csv('simulation_rf_2022_summary.csv', index=False)\n",
        "    print(\"Auswertung wurde im Datei simulation_rf_2022_summary.csv aufgezeichnet\\n\")\n",
        "\n",
        "    print(\"Simulation für Rohdaten-Indikator:\")\n",
        "    start_balance_raw, end_balance_raw, profit_loss_percent_raw = simulate_trading(df_raw, verbose=False)\n",
        "    print(f\"Simulation Rohdaten-Indikator: Start: 1000€, Ende: {end_balance_raw:.2f}€, Gewinn/Verlust: {profit_loss_percent_raw:.2f}%\")\n",
        "    pd.DataFrame([{'Start': 1000, 'Ende': end_balance_raw, \"Gewinn/Verlust\": profit_loss_percent_raw}]).to_csv('simulation_raw_2022_summary.csv', index=False)\n",
        "    print(\"Auswertung wurde im Datei simulation_raw_2022_summary.csv aufgezeichnet\\n\")\n"
      ]
    },
    {
      "cell_type": "markdown",
      "metadata": {
        "id": "74Jbq8vj4AYt"
      },
      "source": [
        "Die Funktion ```simulate_and_evaluate``` führt die Simulation von Handelsstrategien für sowohl das Random Forest Modell als auch das Rohdaten-Modell durch und bewertet deren Performance anhand von Kennzahlen wie dem Endsaldo und dem prozentualen Gewinn/Verlust."
      ]
    },
    {
      "cell_type": "markdown",
      "metadata": {
        "id": "FxO74l2gP5aZ"
      },
      "source": [
        "## 6. Interaktion mit dem Benutzer"
      ]
    },
    {
      "cell_type": "markdown",
      "metadata": {
        "id": "9gOm_xyC4EJ5"
      },
      "source": [
        "### 6.1 Eingabe der Aktie"
      ]
    },
    {
      "cell_type": "code",
      "execution_count": null,
      "metadata": {
        "id": "W4dlqWxaC_0V"
      },
      "outputs": [],
      "source": [
        "# Funktion zur Eingabe des Datums für die Vorhersage\n",
        "def get_prediction_date():\n",
        "    while True:\n",
        "        try:\n",
        "            user_input = input(\"Bitte geben Sie das Datum für die Vorhersage im Format 'YYYY-MM-DD' ein: \")\n",
        "            prediction_date = datetime.strptime(user_input, '%Y-%m-%d')\n",
        "            return prediction_date\n",
        "        except ValueError:\n",
        "            print(\"Ungültiges Datum. Bitte geben Sie das Datum im Format 'YYYY-MM-DD' ein.\")\n"
      ]
    },
    {
      "cell_type": "markdown",
      "metadata": {
        "id": "EoL2hBOR4Hw0"
      },
      "source": [
        "### 6.2 Darstellung der Vorhersage"
      ]
    },
    {
      "cell_type": "code",
      "execution_count": null,
      "metadata": {
        "id": "Gbp9eTR9GIib"
      },
      "outputs": [],
      "source": [
        "def display_predictions(prediction_date, data, model, model_raw, scaler, features):\n",
        "    \"\"\"\n",
        "    Zeigt Vorhersagen für ein spezifisches Datum an.\n",
        "    \"\"\"\n",
        "    pred_date, pred_price, next_day_price, pred_label = predict_for_date(prediction_date, data, model, features)\n",
        "    if pred_date:\n",
        "        if pred_price is not None:  # Check if pred_price is valid\n",
        "            print(f\"Aktien Preis am {pred_date.strftime('%Y-%m-%d')} = ${pred_price:.2f}\")\n",
        "        else:\n",
        "            print(f\"Keine Preisvorhersage verfügbar für {pred_date.strftime('%Y-%m-%d')}.\")  # Inform the user\n",
        "        if next_day_price is not None:  # Check if next_day_price is not None\n",
        "            print(f\"Aktien Preis für den darauffolgenden Tag = ${next_day_price:.2f}\")\n",
        "        else:\n",
        "            print(\"Aktien Preis für den darauffolgenden Tag konnte nicht berechnet werden.\")\n",
        "        print(f\"Vorhersage für {pred_date.strftime('%Y-%m-%d')}: Vorhersage = {pred_label}\")\n",
        "    else:\n",
        "        print(f\"Keine Vorhersage möglich für {prediction_date.strftime('%Y-%m-%d')}.\")\n",
        "\n",
        "    pred_date_raw, pred_price_raw, next_day_price_raw, pred_label_raw = predict_for_date_raw(prediction_date, data, model_raw, scaler)\n",
        "    if pred_date_raw:\n",
        "        print(f\"Rohdaten-Vorhersage für {pred_date_raw.strftime('%Y-%m-%d')}: Vorhersage = {pred_label_raw}\")\n",
        "    else:\n",
        "        print(f\"Keine Rohdaten-Vorhersage möglich für {prediction_date.strftime('%Y-%m-%d')}.\")"
      ]
    },
    {
      "cell_type": "markdown",
      "metadata": {
        "id": "fTlwE3Nc4dCe"
      },
      "source": [
        "Die Funktion ```display_predictions``` zeigt die generierten Handelssignale für ein bestimmtes Datum übersichtlich an, sowohl für das Random Forest Modell als auch für das Rohdaten-Modell."
      ]
    },
    {
      "cell_type": "markdown",
      "metadata": {
        "id": "EFFjWNfP4QeV"
      },
      "source": [
        "### 6.3 Eingabe der Vorhersage für einen Bestimmten tag"
      ]
    },
    {
      "cell_type": "code",
      "execution_count": null,
      "metadata": {
        "id": "HePaGxYeGGDX"
      },
      "outputs": [],
      "source": [
        "def interact_with_user(data, model, model_raw, scaler, features):\n",
        "    \"\"\"\n",
        "    Interagiert mit dem Benutzer, um Vorhersagen für spezifische Daten bereitzustellen.\n",
        "    \"\"\"\n",
        "    while True:\n",
        "        verbose = input(\"Möchten Sie detaillierte Daten der letzten 10 Tage anzeigen? (ja/nein): \").strip().lower() == 'ja'\n",
        "        prediction_date = get_prediction_date()\n",
        "        display_predictions(prediction_date, data, model, model_raw, scaler, features)\n",
        "\n",
        "        another_day = input(\"Möchten Sie ein weiteres Datum eingeben? (ja/nein): \").strip().lower()\n",
        "        if another_day != 'ja':\n",
        "            print(\"Programm beendet.\")\n",
        "            break\n"
      ]
    },
    {
      "cell_type": "markdown",
      "metadata": {
        "id": "RZNETX5Q4kOi"
      },
      "source": [
        "Die Funktion ```interact_with_user``` ermöglicht dem Benutzer, interaktiv mit dem Programm zu interagieren, indem er ein Datum eingibt und die dazugehörigen Vorhersagen erhält."
      ]
    },
    {
      "cell_type": "markdown",
      "metadata": {
        "id": "t-Anufh66gqL"
      },
      "source": [
        "### 6.4 Auswahl zwischen Simulation und Vorhersage für ein bestimmten Tag"
      ]
    },
    {
      "cell_type": "code",
      "execution_count": null,
      "metadata": {
        "id": "YyAp5Z5g62Ly"
      },
      "outputs": [],
      "source": [
        "def handle_user_choice(df_rf, df_raw, data, model, model_raw, scaler, features):\n",
        "    \"\"\"Fragt den Benutzer nach seiner Auswahl und führt die entsprechende Aktion aus.\"\"\"\n",
        "    while True:\n",
        "        choice = input(\"Was möchten Sie tun? (1 für Simulation, 2 für Vorhersage): \")\n",
        "        if choice == '1':\n",
        "            simulate_and_evaluate(df_rf, df_raw)\n",
        "\n",
        "            # Abfrage, ob die Simulation erneut ausgeführt werden soll\n",
        "            repeat_simulation = input(\"Möchten Sie die Simulation erneut ausführen? (ja/nein): \").strip().lower()\n",
        "            if repeat_simulation != 'ja':\n",
        "                break  # Schleife verlassen, wenn keine Wiederholung gewünscht ist\n",
        "\n",
        "        elif choice == '2':\n",
        "            interact_with_user(data, model, model_raw, scaler, features)\n",
        "            break\n",
        "        else:\n",
        "            print(\"Ungültige Auswahl. Bitte wählen Sie 1 oder 2.\")"
      ]
    },
    {
      "cell_type": "markdown",
      "metadata": {
        "id": "zJ7ZYaQ9P_WN"
      },
      "source": [
        "## 7. Hauptfunktion\n"
      ]
    },
    {
      "cell_type": "code",
      "execution_count": null,
      "metadata": {
        "id": "ucyHYZwoBwNq"
      },
      "outputs": [],
      "source": [
        "def main():\n",
        "    # Globale Parameter initialisieren und zurückgeben\n",
        "    train_start, train_end, test_start, threshold, features, raw_features, random_seed = initialize_globals()\n",
        "\n",
        "    # Stock-Daten abrufen und Datenpipeline durchlaufen\n",
        "    data = get_stock_data()\n",
        "    data = prepare_data_pipeline(data)\n",
        "\n",
        "    # Daten aufteilen\n",
        "    train_data, test_data = prepare_data(data, train_start, train_end, test_start)\n",
        "\n",
        "    # Modell trainieren und evaluieren für\n",
        "    model = train_model(train_data, features, threshold, random_seed)\n",
        "    evaluate_model(test_data, model, features, threshold)\n",
        "\n",
        "    # Rohdaten-Modell trainieren und Vorhersagen generieren\n",
        "    model_raw, scaler = train_and_predict_raw_data(data, threshold, train_start, train_end, test_start, raw_features, random_seed,verbose=False)\n",
        "\n",
        "    # Vorhersagen für das Jahr 2022 ausführen und speichern\n",
        "    df_rf, df_raw = run_predictions(data, model, model_raw, scaler, features)\n",
        "\n",
        "    # Auswahl verarbeiten\n",
        "    handle_user_choice(df_rf, df_raw, data, model, model_raw, scaler, features)\n"
      ]
    },
    {
      "cell_type": "markdown",
      "metadata": {
        "id": "SoZeB4Aw4pWR"
      },
      "source": [
        "Die Main Methode Ruft alle Methoden nach der gewünschten Rheinfolge aus!"
      ]
    },
    {
      "cell_type": "code",
      "execution_count": null,
      "metadata": {
        "colab": {
          "background_save": true,
          "base_uri": "https://localhost:8080/"
        },
        "id": "Lglp87q0JgLV",
        "outputId": "5282586d-c6a4-4b2b-d383-e304e0648f4b"
      },
      "outputs": [
        {
          "name": "stderr",
          "output_type": "stream",
          "text": [
            "\r[*********************100%***********************]  1 of 1 completed\n"
          ]
        },
        {
          "name": "stdout",
          "output_type": "stream",
          "text": [
            "\n",
            "\n",
            "Aktie: Apple Inc. wurde erfolgreich Heruntergeladen\n",
            "Anzahl der Daten: 3692\n",
            "\n",
            "\n",
            "\n",
            "\n",
            "Berechnung der Moving Averages MA5 und MA10\n",
            "\n",
            "\n",
            "Berechnung des Relative Strength Index(RSI)\n",
            "\n",
            "\n",
            "Berechnung des Bollinger Bänder\n",
            "\n",
            "\n",
            "Berechnung weiterer Indikatoren\n",
            "\n",
            "\n",
            "Pipeline der Datenvorbereitung und Anpassung\n",
            "--------------------Vollständige Aufbereitung--------------------\n",
            "                Open      High       Low     Close  Adj Close     Volume  \\\n",
            "Date                                                                       \n",
            "2010-02-01  6.870357  7.000000  6.832143  6.954643   5.873024  749876400   \n",
            "2010-02-02  6.996786  7.011429  6.906429  6.995000   5.907104  698342400   \n",
            "2010-02-03  6.970357  7.150000  6.943571  7.115357   6.008744  615328000   \n",
            "2010-02-04  7.026071  7.084643  6.841786  6.858929   5.792197  757652000   \n",
            "2010-02-05  6.879643  7.000000  6.816071  6.980714   5.895041  850306800   \n",
            "\n",
            "                 MA5      MA10        RSI  MiddleBand  UpperBand  LowerBand  \\\n",
            "Date                                                                          \n",
            "2010-02-01  6.031363  6.139214  38.180105    6.245076   6.639339   5.850812   \n",
            "2010-02-02  5.970561  6.081368  40.705310    6.217706   6.626488   5.808923   \n",
            "2010-02-03  5.918384  6.043668  41.111498    6.194860   6.596299   5.793420   \n",
            "2010-02-04  5.874713  5.995352  37.621100    6.166328   6.597514   5.735142   \n",
            "2010-02-05  5.895222  5.988446  42.533169    6.143527   6.581754   5.705301   \n",
            "\n",
            "            Momentum       ROC  PriceChange  Volatility  \n",
            "Date                                                     \n",
            "2010-02-01 -0.338093 -5.438740     1.390192    0.226065  \n",
            "2010-02-02 -0.362522 -8.919263     0.580289    0.200112  \n",
            "2010-02-03 -0.001808 -5.903724     1.720644    0.169581  \n",
            "2010-02-04 -0.000300 -7.699302    -3.603873    0.165004  \n",
            "2010-02-05  0.022017 -1.158036     1.775557    0.167877  \n",
            "                  Open        High         Low       Close   Adj Close  \\\n",
            "Date                                                                     \n",
            "2024-08-28  227.919998  229.860001  225.679993  226.490005  226.490005   \n",
            "2024-08-29  230.100006  232.919998  228.880005  229.789993  229.789993   \n",
            "2024-08-30  230.190002  230.399994  227.479996  229.000000  229.000000   \n",
            "2024-09-03  228.550003  229.000000  221.169998  222.770004  222.770004   \n",
            "2024-09-04  221.660004  221.779999  217.479996  220.850006  220.850006   \n",
            "\n",
            "              Volume         MA5        MA10        RSI  MiddleBand  \\\n",
            "Date                                                                  \n",
            "2024-08-28  38052200  226.613998  226.263998  82.296327  220.776131   \n",
            "2024-08-29  51906300  227.665997  226.770998  82.608708  221.360253   \n",
            "2024-08-30  52990800  228.097998  227.065997  78.099011  221.829963   \n",
            "2024-09-03  50042900  227.216000  226.753998  53.275114  222.517060   \n",
            "2024-09-04  43780100  225.780002  226.187999  48.215026  223.210040   \n",
            "\n",
            "             UpperBand   LowerBand  Momentum       ROC  PriceChange  \\\n",
            "Date                                                                  \n",
            "2024-08-28  234.287873  207.264389  1.960007  2.151364    -0.675347   \n",
            "2024-08-29  235.386533  207.333974  2.949997  2.256137     1.457013   \n",
            "2024-08-30  236.232986  207.426940  1.820007  1.305020    -0.343789   \n",
            "2024-09-03  235.599201  209.434919 -5.259995 -1.381201    -2.720522   \n",
            "2024-09-04  234.116572  212.303509 -5.639999 -2.498781    -0.861875   \n",
            "\n",
            "            Volatility  \n",
            "Date                    \n",
            "2024-08-28    1.053883  \n",
            "2024-08-29    1.393407  \n",
            "2024-08-30    1.529438  \n",
            "2024-09-03    2.031742  \n",
            "2024-09-04    2.763770  \n",
            "-----------------------------------------------------------------\n",
            "\n",
            "\n",
            "Ergebnisse für RandomForest-Modell:\n",
            "              precision    recall  f1-score   support\n",
            "\n",
            "          -1       0.24      0.12      0.16        92\n",
            "           0       0.81      0.92      0.86       733\n",
            "           1       0.33      0.13      0.19        98\n",
            "\n",
            "    accuracy                           0.76       923\n",
            "   macro avg       0.46      0.39      0.40       923\n",
            "weighted avg       0.70      0.76      0.72       923\n",
            "\n",
            "Accuracy: 0.76\n",
            "\n",
            "Berechnung der Signal\n",
            "\n",
            "\n",
            "              precision    recall  f1-score   support\n",
            "\n",
            "          -1       0.49      0.63      0.55        92\n",
            "           0       0.86      0.35      0.50       733\n",
            "           1       0.16      0.83      0.27        98\n",
            "\n",
            "    accuracy                           0.43       923\n",
            "   macro avg       0.50      0.60      0.44       923\n",
            "weighted avg       0.75      0.43      0.48       923\n",
            "\n",
            "Accuracy: 0.42903575297941493\n",
            "CSV-Dateien für das Jahr 2022 wurden gespeichert.\n",
            "\n",
            "Simulation für technischer Indikator:\n",
            "Simulation technischer Indikator: Start: 1000€, Ende: 733.26€, Gewinn/Verlust: -26.67%\n",
            "Auswertung wurde im Datei simulation_rf_2022_summary.csv aufgezeichnet\n",
            "\n",
            "Simulation für Rohdaten-Indikator:\n",
            "Simulation Rohdaten-Indikator: Start: 1000€, Ende: 711.07€, Gewinn/Verlust: -28.89%\n",
            "Auswertung wurde im Datei simulation_raw_2022_summary.csv aufgezeichnet\n",
            "\n"
          ]
        }
      ],
      "source": [
        "if __name__ == \"__main__\":\n",
        "    main()"
      ]
    },
    {
      "cell_type": "markdown",
      "source": [
        "**Erkenntnis:**\n",
        "\n",
        "\n",
        "Die Simulation zeigt, dass technische Indikatoren im Zusammenhang mit den analysierten Aktienkursen in den bisherigen Tests eine bessere Performance erzielen. Allerdings sind die Ergebnisse nicht endgültig, da sich bei erneuter Durchführung der Simulation Schwankungen zeigen. Dies deutet darauf hin, dass eine Optimierung des **RandomForestClassifiers** notwendig ist, um robustere und konsistentere Vorhersagen zu erhalten. Darüber hinaus sollten weitere Modelle betrachtet werden, um eine umfassendere Analyse der Kursentwicklung zu ermöglichen und einen  Vergleich zwischen den Modellen zu *erzielen*."
      ],
      "metadata": {
        "id": "7QhCwFYWcrGI"
      }
    }
  ],
  "metadata": {
    "colab": {
      "collapsed_sections": [
        "X-e-qEP_OXOK",
        "_AHyo0mrrap3",
        "gSzB9jcnrh07",
        "4bfhHvrN3ERD",
        "p0UvtAmO3RhO",
        "hkIKFVhi3a4s",
        "JAmirkfZ3hGa",
        "ITWyW2eiv4fy",
        "UGN3BXi087e0",
        "vvcJSKapw0X-",
        "7-J8I00Fz-GK",
        "t6RsfPpX0Ogj",
        "hOnqfh_Z01Vq",
        "hf338_nm3BcX",
        "DqoNPz8nPviN",
        "FZsmb1WY3qEa",
        "_tu6bDfG3rAU",
        "FxO74l2gP5aZ",
        "9gOm_xyC4EJ5",
        "EoL2hBOR4Hw0",
        "EFFjWNfP4QeV"
      ],
      "provenance": []
    },
    "kernelspec": {
      "display_name": "Python 3",
      "name": "python3"
    },
    "language_info": {
      "name": "python"
    }
  },
  "nbformat": 4,
  "nbformat_minor": 0
}