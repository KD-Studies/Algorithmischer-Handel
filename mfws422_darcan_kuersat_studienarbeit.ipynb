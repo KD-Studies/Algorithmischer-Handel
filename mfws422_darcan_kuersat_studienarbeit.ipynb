{
 "cells": [
  {
   "cell_type": "markdown",
   "id": "1d4a790f-4fd2-4e96-876d-22f95f0ad778",
   "metadata": {},
   "source": [
    "<h1>Abgabe</h1>"
   ]
  },
  {
   "cell_type": "code",
   "execution_count": 1,
   "id": "e996bba3-51c1-4e3b-8c5b-b1af37e41d7f",
   "metadata": {},
   "outputs": [
    {
     "name": "stdout",
     "output_type": "stream",
     "text": [
      "Requirement already satisfied: yfinance in c:\\users\\kdarcan\\documents\\github\\algorithmischer-handel\\venv\\lib\\site-packages (0.2.40)"
     ]
    },
    {
     "name": "stderr",
     "output_type": "stream",
     "text": [
      "\n",
      "[notice] A new release of pip is available: 24.1 -> 24.2\n",
      "[notice] To update, run: python.exe -m pip install --upgrade pip\n"
     ]
    },
    {
     "name": "stdout",
     "output_type": "stream",
     "text": [
      "\n",
      "Requirement already satisfied: pandas>=1.3.0 in c:\\users\\kdarcan\\documents\\github\\algorithmischer-handel\\venv\\lib\\site-packages (from yfinance) (2.2.2)\n",
      "Requirement already satisfied: numpy>=1.16.5 in c:\\users\\kdarcan\\documents\\github\\algorithmischer-handel\\venv\\lib\\site-packages (from yfinance) (2.0.0)\n",
      "Requirement already satisfied: requests>=2.31 in c:\\users\\kdarcan\\documents\\github\\algorithmischer-handel\\venv\\lib\\site-packages (from yfinance) (2.32.3)\n",
      "Requirement already satisfied: multitasking>=0.0.7 in c:\\users\\kdarcan\\documents\\github\\algorithmischer-handel\\venv\\lib\\site-packages (from yfinance) (0.0.11)\n",
      "Requirement already satisfied: lxml>=4.9.1 in c:\\users\\kdarcan\\documents\\github\\algorithmischer-handel\\venv\\lib\\site-packages (from yfinance) (5.2.2)\n",
      "Requirement already satisfied: platformdirs>=2.0.0 in c:\\users\\kdarcan\\documents\\github\\algorithmischer-handel\\venv\\lib\\site-packages (from yfinance) (4.2.2)\n",
      "Requirement already satisfied: pytz>=2022.5 in c:\\users\\kdarcan\\documents\\github\\algorithmischer-handel\\venv\\lib\\site-packages (from yfinance) (2024.1)\n",
      "Requirement already satisfied: frozendict>=2.3.4 in c:\\users\\kdarcan\\documents\\github\\algorithmischer-handel\\venv\\lib\\site-packages (from yfinance) (2.4.4)\n",
      "Requirement already satisfied: peewee>=3.16.2 in c:\\users\\kdarcan\\documents\\github\\algorithmischer-handel\\venv\\lib\\site-packages (from yfinance) (3.17.5)\n",
      "Requirement already satisfied: beautifulsoup4>=4.11.1 in c:\\users\\kdarcan\\documents\\github\\algorithmischer-handel\\venv\\lib\\site-packages (from yfinance) (4.12.3)\n",
      "Requirement already satisfied: html5lib>=1.1 in c:\\users\\kdarcan\\documents\\github\\algorithmischer-handel\\venv\\lib\\site-packages (from yfinance) (1.1)\n",
      "Requirement already satisfied: soupsieve>1.2 in c:\\users\\kdarcan\\documents\\github\\algorithmischer-handel\\venv\\lib\\site-packages (from beautifulsoup4>=4.11.1->yfinance) (2.5)\n",
      "Requirement already satisfied: six>=1.9 in c:\\users\\kdarcan\\documents\\github\\algorithmischer-handel\\venv\\lib\\site-packages (from html5lib>=1.1->yfinance) (1.16.0)\n",
      "Requirement already satisfied: webencodings in c:\\users\\kdarcan\\documents\\github\\algorithmischer-handel\\venv\\lib\\site-packages (from html5lib>=1.1->yfinance) (0.5.1)\n",
      "Requirement already satisfied: python-dateutil>=2.8.2 in c:\\users\\kdarcan\\documents\\github\\algorithmischer-handel\\venv\\lib\\site-packages (from pandas>=1.3.0->yfinance) (2.9.0.post0)\n",
      "Requirement already satisfied: tzdata>=2022.7 in c:\\users\\kdarcan\\documents\\github\\algorithmischer-handel\\venv\\lib\\site-packages (from pandas>=1.3.0->yfinance) (2024.1)\n",
      "Requirement already satisfied: charset-normalizer<4,>=2 in c:\\users\\kdarcan\\documents\\github\\algorithmischer-handel\\venv\\lib\\site-packages (from requests>=2.31->yfinance) (3.3.2)\n",
      "Requirement already satisfied: idna<4,>=2.5 in c:\\users\\kdarcan\\documents\\github\\algorithmischer-handel\\venv\\lib\\site-packages (from requests>=2.31->yfinance) (3.7)\n",
      "Requirement already satisfied: urllib3<3,>=1.21.1 in c:\\users\\kdarcan\\documents\\github\\algorithmischer-handel\\venv\\lib\\site-packages (from requests>=2.31->yfinance) (2.2.2)\n",
      "Requirement already satisfied: certifi>=2017.4.17 in c:\\users\\kdarcan\\documents\\github\\algorithmischer-handel\\venv\\lib\\site-packages (from requests>=2.31->yfinance) (2024.7.4)\n",
      "Requirement already satisfied: pandas in c:\\users\\kdarcan\\documents\\github\\algorithmischer-handel\\venv\\lib\\site-packages (2.2.2)"
     ]
    },
    {
     "name": "stderr",
     "output_type": "stream",
     "text": [
      "\n",
      "[notice] A new release of pip is available: 24.1 -> 24.2\n",
      "[notice] To update, run: python.exe -m pip install --upgrade pip\n"
     ]
    },
    {
     "name": "stdout",
     "output_type": "stream",
     "text": [
      "\n",
      "Requirement already satisfied: numpy>=1.26.0 in c:\\users\\kdarcan\\documents\\github\\algorithmischer-handel\\venv\\lib\\site-packages (from pandas) (2.0.0)\n",
      "Requirement already satisfied: python-dateutil>=2.8.2 in c:\\users\\kdarcan\\documents\\github\\algorithmischer-handel\\venv\\lib\\site-packages (from pandas) (2.9.0.post0)\n",
      "Requirement already satisfied: pytz>=2020.1 in c:\\users\\kdarcan\\documents\\github\\algorithmischer-handel\\venv\\lib\\site-packages (from pandas) (2024.1)\n",
      "Requirement already satisfied: tzdata>=2022.7 in c:\\users\\kdarcan\\documents\\github\\algorithmischer-handel\\venv\\lib\\site-packages (from pandas) (2024.1)\n",
      "Requirement already satisfied: six>=1.5 in c:\\users\\kdarcan\\documents\\github\\algorithmischer-handel\\venv\\lib\\site-packages (from python-dateutil>=2.8.2->pandas) (1.16.0)\n"
     ]
    }
   ],
   "source": [
    "!pip install yfinance\n",
    "!pip install pandas"
   ]
  },
  {
   "cell_type": "code",
   "execution_count": 9,
   "id": "5cf12d84-eed4-41b8-8381-4908a93cb26e",
   "metadata": {},
   "outputs": [
    {
     "ename": "SyntaxError",
     "evalue": "unterminated string literal (detected at line 69) (771179976.py, line 69)",
     "output_type": "error",
     "traceback": [
      "\u001b[1;36m  Cell \u001b[1;32mIn[9], line 69\u001b[1;36m\u001b[0m\n\u001b[1;33m    data.loc[buy_signal_condition, 'Signal\u001b[0m\n\u001b[1;37m                                   ^\u001b[0m\n\u001b[1;31mSyntaxError\u001b[0m\u001b[1;31m:\u001b[0m unterminated string literal (detected at line 69)\n"
     ]
    }
   ],
   "source": [
    "import yfinance as yf\n",
    "import numpy as np\n",
    "import pandas as pd\n",
    "import matplotlib.pyplot as plt\n",
    "\n",
    "# Daten von yfinance herunterladen\n",
    "data_aapl = yf.download(\"AAPL\", start=\"2010-01-01\", end=\"2022-12-31\")\n",
    "data_msft = yf.download(\"MSFT\", start=\"2010-01-01\", end=\"2022-12-31\")\n",
    "\n",
    "# Hull Moving Average (HMA) berechnen\n",
    "def HMA(data, window):\n",
    "    half_length = int(window / 2)\n",
    "    sqrt_length = int(np.sqrt(window))\n",
    "    WMA_half = data.rolling(window=half_length).apply(lambda x: np.average(x, weights=range(1, half_length + 1)), raw=True)\n",
    "    WMA_full = data.rolling(window=window).apply(lambda x: np.average(x, weights=range(1, window + 1)), raw=True)\n",
    "    raw_HMA = 2 * WMA_half - WMA_full\n",
    "    HMA = raw_HMA.rolling(window=sqrt_length).apply(lambda x: np.average(x, weights=range(1, sqrt_length + 1)), raw=True)\n",
    "    return HMA\n",
    "\n",
    "# Berechnung der gleitenden Durchschnitte und HMA für AAPL und MSFT\n",
    "def calculate_moving_averages(data):\n",
    "    data['SMA_20'] = data['Close'].rolling(window=20).mean()\n",
    "    data['SMA_50'] = data['Close'].rolling(window=50).mean()\n",
    "    data['EMA_20'] = data['Close'].ewm(span=20, adjust=False).mean()\n",
    "    data['EMA_50'] = data['Close'].ewm(span=50, adjust=False).mean()\n",
    "    data['HMA_20'] = HMA(data['Close'], 20)\n",
    "    data['HMA_50'] = HMA(data['Close'], 50)\n",
    "    return data\n",
    "\n",
    "data_aapl = calculate_moving_averages(data_aapl)\n",
    "data_msft = calculate_moving_averages(data_msft)\n",
    "\n",
    "# Funktion zur Generierung von Kauf- und Verkaufssignalen basierend auf HMA\n",
    "def generate_hma_signals(data, short_window, long_window, volume_threshold=1000000, price_threshold=50):\n",
    "    data['Signal'] = 0\n",
    "\n",
    "    short_hma = data[f'HMA_{short_window}']\n",
    "\n",
    "    buy_signal_condition = (data['Close'] > short_hma) & (data['Volume'] > volume_threshold) & (data['Close'] > price_threshold)\n",
    "    sell_signal_condition = (data['Close'] < short_hma) & (data['Volume'] > volume_threshold) & (data['Close'] > price_threshold)\n",
    "\n",
    "    data.loc[buy_signal_condition, 'Signal'] = 1\n",
    "    data.loc[sell_signal_condition, 'Signal'] = -1\n",
    "\n",
    "    # Reduzierung von Rauschen durch Einführung einer Mindestanzahl von Tagen zwischen Signalen\n",
    "    data['Position'] = 0\n",
    "    last_signal_date = None\n",
    "    min_days_between_signals = 5  # Mindestanzahl von Tagen zwischen Signalen\n",
    "\n",
    "    for i in range(len(data)):\n",
    "        if data['Signal'].iloc[i] != 0:\n",
    "            if last_signal_date is None or (data.index[i] - last_signal_date).days >= min_days_between_signals:\n",
    "                data.loc[data.index[i], 'Position'] = data['Signal'].iloc[i]\n",
    "                last_signal_date = data.index[i]\n",
    "\n",
    "    return data\n",
    "\n",
    "# Überarbeitete Funktion zur Generierung von Kauf- und Verkaufssignalen an Tief- und Hochpunkten\n",
    "def generate_hma_signals_peak_trough(data, short_window, long_window, volume_threshold=1000000, price_threshold=50):\n",
    "    data['Signal'] = 0\n",
    "\n",
    "    short_hma = data[f'HMA_{short_window}']\n",
    "\n",
    "    # Bedingung für Kaufsignale: Kurs unterhalb des kurzen HMA und innerhalb eines bestimmten Schwellenwerts zum Tiefpunkt\n",
    "    buy_signal_condition = (data['Close'] > short_hma) & (data['Volume'] > volume_threshold) & (data['Close'] > price_threshold)\n",
    "    # Bedingung für Verkaufssignale: Kurs oberhalb des kurzen HMA und innerhalb eines bestimmten Schwellenwerts zum Hochpunkt\n",
    "    sell_signal_condition = (data['Close'] < short_hma) & (data['Volume'] > volume_threshold) & (data['Close'] > price_threshold)\n",
    "\n",
    "    data.loc[buy_signal_condition, 'Signal\n"
   ]
  }
 ],
 "metadata": {
  "kernelspec": {
   "display_name": "Python 3 (ipykernel)",
   "language": "python",
   "name": "python3"
  },
  "language_info": {
   "codemirror_mode": {
    "name": "ipython",
    "version": 3
   },
   "file_extension": ".py",
   "mimetype": "text/x-python",
   "name": "python",
   "nbconvert_exporter": "python",
   "pygments_lexer": "ipython3",
   "version": "3.12.4"
  }
 },
 "nbformat": 4,
 "nbformat_minor": 5
}
