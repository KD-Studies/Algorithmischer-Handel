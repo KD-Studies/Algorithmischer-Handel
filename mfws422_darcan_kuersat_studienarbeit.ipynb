{
 "cells": [
  {
   "cell_type": "markdown",
   "id": "1d4a790f-4fd2-4e96-876d-22f95f0ad778",
   "metadata": {},
   "source": [
    "<h1>Abgabe</h1>"
   ]
  },
  {
   "cell_type": "code",
   "execution_count": 1,
   "id": "e996bba3-51c1-4e3b-8c5b-b1af37e41d7f",
   "metadata": {},
   "outputs": [
    {
     "name": "stdout",
     "output_type": "stream",
     "text": [
      "Requirement already satisfied: yfinance in c:\\users\\kdarcan\\documents\\github\\algorithmischer-handel\\venv\\lib\\site-packages (0.2.40)"
     ]
    },
    {
     "name": "stderr",
     "output_type": "stream",
     "text": [
      "\n",
      "[notice] A new release of pip is available: 24.1 -> 24.2\n",
      "[notice] To update, run: python.exe -m pip install --upgrade pip\n"
     ]
    },
    {
     "name": "stdout",
     "output_type": "stream",
     "text": [
      "\n",
      "Requirement already satisfied: pandas>=1.3.0 in c:\\users\\kdarcan\\documents\\github\\algorithmischer-handel\\venv\\lib\\site-packages (from yfinance) (2.2.2)\n",
      "Requirement already satisfied: numpy>=1.16.5 in c:\\users\\kdarcan\\documents\\github\\algorithmischer-handel\\venv\\lib\\site-packages (from yfinance) (2.0.0)\n",
      "Requirement already satisfied: requests>=2.31 in c:\\users\\kdarcan\\documents\\github\\algorithmischer-handel\\venv\\lib\\site-packages (from yfinance) (2.32.3)\n",
      "Requirement already satisfied: multitasking>=0.0.7 in c:\\users\\kdarcan\\documents\\github\\algorithmischer-handel\\venv\\lib\\site-packages (from yfinance) (0.0.11)\n",
      "Requirement already satisfied: lxml>=4.9.1 in c:\\users\\kdarcan\\documents\\github\\algorithmischer-handel\\venv\\lib\\site-packages (from yfinance) (5.2.2)\n",
      "Requirement already satisfied: platformdirs>=2.0.0 in c:\\users\\kdarcan\\documents\\github\\algorithmischer-handel\\venv\\lib\\site-packages (from yfinance) (4.2.2)\n",
      "Requirement already satisfied: pytz>=2022.5 in c:\\users\\kdarcan\\documents\\github\\algorithmischer-handel\\venv\\lib\\site-packages (from yfinance) (2024.1)\n",
      "Requirement already satisfied: frozendict>=2.3.4 in c:\\users\\kdarcan\\documents\\github\\algorithmischer-handel\\venv\\lib\\site-packages (from yfinance) (2.4.4)\n",
      "Requirement already satisfied: peewee>=3.16.2 in c:\\users\\kdarcan\\documents\\github\\algorithmischer-handel\\venv\\lib\\site-packages (from yfinance) (3.17.5)\n",
      "Requirement already satisfied: beautifulsoup4>=4.11.1 in c:\\users\\kdarcan\\documents\\github\\algorithmischer-handel\\venv\\lib\\site-packages (from yfinance) (4.12.3)\n",
      "Requirement already satisfied: html5lib>=1.1 in c:\\users\\kdarcan\\documents\\github\\algorithmischer-handel\\venv\\lib\\site-packages (from yfinance) (1.1)\n",
      "Requirement already satisfied: soupsieve>1.2 in c:\\users\\kdarcan\\documents\\github\\algorithmischer-handel\\venv\\lib\\site-packages (from beautifulsoup4>=4.11.1->yfinance) (2.5)\n",
      "Requirement already satisfied: six>=1.9 in c:\\users\\kdarcan\\documents\\github\\algorithmischer-handel\\venv\\lib\\site-packages (from html5lib>=1.1->yfinance) (1.16.0)\n",
      "Requirement already satisfied: webencodings in c:\\users\\kdarcan\\documents\\github\\algorithmischer-handel\\venv\\lib\\site-packages (from html5lib>=1.1->yfinance) (0.5.1)\n",
      "Requirement already satisfied: python-dateutil>=2.8.2 in c:\\users\\kdarcan\\documents\\github\\algorithmischer-handel\\venv\\lib\\site-packages (from pandas>=1.3.0->yfinance) (2.9.0.post0)\n",
      "Requirement already satisfied: tzdata>=2022.7 in c:\\users\\kdarcan\\documents\\github\\algorithmischer-handel\\venv\\lib\\site-packages (from pandas>=1.3.0->yfinance) (2024.1)\n",
      "Requirement already satisfied: charset-normalizer<4,>=2 in c:\\users\\kdarcan\\documents\\github\\algorithmischer-handel\\venv\\lib\\site-packages (from requests>=2.31->yfinance) (3.3.2)\n",
      "Requirement already satisfied: idna<4,>=2.5 in c:\\users\\kdarcan\\documents\\github\\algorithmischer-handel\\venv\\lib\\site-packages (from requests>=2.31->yfinance) (3.7)\n",
      "Requirement already satisfied: urllib3<3,>=1.21.1 in c:\\users\\kdarcan\\documents\\github\\algorithmischer-handel\\venv\\lib\\site-packages (from requests>=2.31->yfinance) (2.2.2)\n",
      "Requirement already satisfied: certifi>=2017.4.17 in c:\\users\\kdarcan\\documents\\github\\algorithmischer-handel\\venv\\lib\\site-packages (from requests>=2.31->yfinance) (2024.7.4)\n",
      "Requirement already satisfied: pandas in c:\\users\\kdarcan\\documents\\github\\algorithmischer-handel\\venv\\lib\\site-packages (2.2.2)\n",
      "Requirement already satisfied: numpy>=1.26.0 in c:\\users\\kdarcan\\documents\\github\\algorithmischer-handel\\venv\\lib\\site-packages (from pandas) (2.0.0)\n",
      "Requirement already satisfied: python-dateutil>=2.8.2 in c:\\users\\kdarcan\\documents\\github\\algorithmischer-handel\\venv\\lib\\site-packages (from pandas) (2.9.0.post0)\n",
      "Requirement already satisfied: pytz>=2020.1 in c:\\users\\kdarcan\\documents\\github\\algorithmischer-handel\\venv\\lib\\site-packages (from pandas) (2024.1)\n",
      "Requirement already satisfied: tzdata>=2022.7 in c:\\users\\kdarcan\\documents\\github\\algorithmischer-handel\\venv\\lib\\site-packages (from pandas) (2024.1)\n",
      "Requirement already satisfied: six>=1.5 in c:\\users\\kdarcan\\documents\\github\\algorithmischer-handel\\venv\\lib\\site-packages (from python-dateutil>=2.8.2->pandas) (1.16.0)\n"
     ]
    },
    {
     "name": "stderr",
     "output_type": "stream",
     "text": [
      "\n",
      "[notice] A new release of pip is available: 24.1 -> 24.2\n",
      "[notice] To update, run: python.exe -m pip install --upgrade pip\n"
     ]
    }
   ],
   "source": [
    "!pip install yfinance\n",
    "!pip install pandas"
   ]
  },
  {
   "cell_type": "code",
   "execution_count": 2,
   "id": "5cf12d84-eed4-41b8-8381-4908a93cb26e",
   "metadata": {},
   "outputs": [
    {
     "name": "stderr",
     "output_type": "stream",
     "text": [
      "[*********************100%%**********************]  1 of 1 completed\n",
      "[*********************100%%**********************]  1 of 1 completed\n",
      "[*********************100%%**********************]  1 of 1 completed"
     ]
    },
    {
     "name": "stdout",
     "output_type": "stream",
     "text": [
      "                Open      High       Low     Close  Adj Close     Volume Stock\n",
      "Date                                                                          \n",
      "2010-01-04  7.622500  7.660714  7.585000  7.643214   6.454507  493729600  AAPL\n",
      "2010-01-05  7.664286  7.699643  7.616071  7.656429   6.465666  601904800  AAPL\n",
      "2010-01-06  7.656429  7.686786  7.526786  7.534643   6.362820  552160000  AAPL\n",
      "2010-01-07  7.562500  7.571429  7.466071  7.520714   6.351056  477131200  AAPL\n",
      "2010-01-08  7.510714  7.571429  7.466429  7.570714   6.393280  447610800  AAPL\n"
     ]
    },
    {
     "name": "stderr",
     "output_type": "stream",
     "text": [
      "\n"
     ]
    }
   ],
   "source": [
    "# Imports\n",
    "import yfinance as yf\n",
    "import pandas as pd\n",
    "import numpy as np\n",
    "import matplotlib.pyplot as plt\n",
    "from sklearn.model_selection import train_test_split\n",
    "from sklearn.ensemble import RandomForestClassifier\n",
    "from sklearn.metrics import accuracy_score\n",
    "\n",
    "# Aktienliste für das Training\n",
    "stocks = [\"AAPL\", \"MSFT\", \"GOOGL\"]\n",
    "\n",
    "# Daten für jede Aktie herunterladen und in einer Liste speichern\n",
    "data_list = []\n",
    "for stock in stocks:\n",
    "    data = yf.download(stock, start=\"2010-01-01\", end=\"2022-12-31\")\n",
    "    data['Stock'] = stock\n",
    "    data_list.append(data)\n",
    "\n",
    "# Kombinieren aller Aktien in einem DataFrame\n",
    "data_all = pd.concat(data_list)\n",
    "\n",
    "# Erste Ansicht der kombinierten Daten\n",
    "print(data_all.head())\n"
   ]
  },
  {
   "cell_type": "code",
   "execution_count": 3,
   "id": "3380d7ab-0989-4ebb-9543-7f705107d2d2",
   "metadata": {},
   "outputs": [
    {
     "ename": "NameError",
     "evalue": "name 'HMA' is not defined",
     "output_type": "error",
     "traceback": [
      "\u001b[1;31m---------------------------------------------------------------------------\u001b[0m",
      "\u001b[1;31mNameError\u001b[0m                                 Traceback (most recent call last)",
      "Cell \u001b[1;32mIn[3], line 12\u001b[0m\n\u001b[0;32m      9\u001b[0m     \u001b[38;5;28;01mreturn\u001b[39;00m data\n\u001b[0;32m     11\u001b[0m \u001b[38;5;66;03m# Anwendung der Indikatoren auf alle Aktien\u001b[39;00m\n\u001b[1;32m---> 12\u001b[0m data_all \u001b[38;5;241m=\u001b[39m \u001b[43mdata_all\u001b[49m\u001b[38;5;241;43m.\u001b[39;49m\u001b[43mgroupby\u001b[49m\u001b[43m(\u001b[49m\u001b[38;5;124;43m'\u001b[39;49m\u001b[38;5;124;43mStock\u001b[39;49m\u001b[38;5;124;43m'\u001b[39;49m\u001b[43m)\u001b[49m\u001b[38;5;241;43m.\u001b[39;49m\u001b[43mapply\u001b[49m\u001b[43m(\u001b[49m\u001b[43mcalculate_indicators\u001b[49m\u001b[43m)\u001b[49m\n\u001b[0;32m     14\u001b[0m \u001b[38;5;66;03m# Daten nach der Berechnung der Indikatoren ansehen\u001b[39;00m\n\u001b[0;32m     15\u001b[0m \u001b[38;5;28mprint\u001b[39m(data_all\u001b[38;5;241m.\u001b[39mhead())\n",
      "File \u001b[1;32m~\\Documents\\GitHub\\Algorithmischer-Handel\\venv\\Lib\\site-packages\\pandas\\core\\groupby\\groupby.py:1824\u001b[0m, in \u001b[0;36mGroupBy.apply\u001b[1;34m(self, func, include_groups, *args, **kwargs)\u001b[0m\n\u001b[0;32m   1822\u001b[0m \u001b[38;5;28;01mwith\u001b[39;00m option_context(\u001b[38;5;124m\"\u001b[39m\u001b[38;5;124mmode.chained_assignment\u001b[39m\u001b[38;5;124m\"\u001b[39m, \u001b[38;5;28;01mNone\u001b[39;00m):\n\u001b[0;32m   1823\u001b[0m     \u001b[38;5;28;01mtry\u001b[39;00m:\n\u001b[1;32m-> 1824\u001b[0m         result \u001b[38;5;241m=\u001b[39m \u001b[38;5;28;43mself\u001b[39;49m\u001b[38;5;241;43m.\u001b[39;49m\u001b[43m_python_apply_general\u001b[49m\u001b[43m(\u001b[49m\u001b[43mf\u001b[49m\u001b[43m,\u001b[49m\u001b[43m \u001b[49m\u001b[38;5;28;43mself\u001b[39;49m\u001b[38;5;241;43m.\u001b[39;49m\u001b[43m_selected_obj\u001b[49m\u001b[43m)\u001b[49m\n\u001b[0;32m   1825\u001b[0m         \u001b[38;5;28;01mif\u001b[39;00m (\n\u001b[0;32m   1826\u001b[0m             \u001b[38;5;129;01mnot\u001b[39;00m \u001b[38;5;28misinstance\u001b[39m(\u001b[38;5;28mself\u001b[39m\u001b[38;5;241m.\u001b[39mobj, Series)\n\u001b[0;32m   1827\u001b[0m             \u001b[38;5;129;01mand\u001b[39;00m \u001b[38;5;28mself\u001b[39m\u001b[38;5;241m.\u001b[39m_selection \u001b[38;5;129;01mis\u001b[39;00m \u001b[38;5;28;01mNone\u001b[39;00m\n\u001b[0;32m   1828\u001b[0m             \u001b[38;5;129;01mand\u001b[39;00m \u001b[38;5;28mself\u001b[39m\u001b[38;5;241m.\u001b[39m_selected_obj\u001b[38;5;241m.\u001b[39mshape \u001b[38;5;241m!=\u001b[39m \u001b[38;5;28mself\u001b[39m\u001b[38;5;241m.\u001b[39m_obj_with_exclusions\u001b[38;5;241m.\u001b[39mshape\n\u001b[0;32m   1829\u001b[0m         ):\n\u001b[0;32m   1830\u001b[0m             warnings\u001b[38;5;241m.\u001b[39mwarn(\n\u001b[0;32m   1831\u001b[0m                 message\u001b[38;5;241m=\u001b[39m_apply_groupings_depr\u001b[38;5;241m.\u001b[39mformat(\n\u001b[0;32m   1832\u001b[0m                     \u001b[38;5;28mtype\u001b[39m(\u001b[38;5;28mself\u001b[39m)\u001b[38;5;241m.\u001b[39m\u001b[38;5;18m__name__\u001b[39m, \u001b[38;5;124m\"\u001b[39m\u001b[38;5;124mapply\u001b[39m\u001b[38;5;124m\"\u001b[39m\n\u001b[1;32m   (...)\u001b[0m\n\u001b[0;32m   1835\u001b[0m                 stacklevel\u001b[38;5;241m=\u001b[39mfind_stack_level(),\n\u001b[0;32m   1836\u001b[0m             )\n",
      "File \u001b[1;32m~\\Documents\\GitHub\\Algorithmischer-Handel\\venv\\Lib\\site-packages\\pandas\\core\\groupby\\groupby.py:1885\u001b[0m, in \u001b[0;36mGroupBy._python_apply_general\u001b[1;34m(self, f, data, not_indexed_same, is_transform, is_agg)\u001b[0m\n\u001b[0;32m   1850\u001b[0m \u001b[38;5;129m@final\u001b[39m\n\u001b[0;32m   1851\u001b[0m \u001b[38;5;28;01mdef\u001b[39;00m \u001b[38;5;21m_python_apply_general\u001b[39m(\n\u001b[0;32m   1852\u001b[0m     \u001b[38;5;28mself\u001b[39m,\n\u001b[1;32m   (...)\u001b[0m\n\u001b[0;32m   1857\u001b[0m     is_agg: \u001b[38;5;28mbool\u001b[39m \u001b[38;5;241m=\u001b[39m \u001b[38;5;28;01mFalse\u001b[39;00m,\n\u001b[0;32m   1858\u001b[0m ) \u001b[38;5;241m-\u001b[39m\u001b[38;5;241m>\u001b[39m NDFrameT:\n\u001b[0;32m   1859\u001b[0m \u001b[38;5;250m    \u001b[39m\u001b[38;5;124;03m\"\"\"\u001b[39;00m\n\u001b[0;32m   1860\u001b[0m \u001b[38;5;124;03m    Apply function f in python space\u001b[39;00m\n\u001b[0;32m   1861\u001b[0m \n\u001b[1;32m   (...)\u001b[0m\n\u001b[0;32m   1883\u001b[0m \u001b[38;5;124;03m        data after applying f\u001b[39;00m\n\u001b[0;32m   1884\u001b[0m \u001b[38;5;124;03m    \"\"\"\u001b[39;00m\n\u001b[1;32m-> 1885\u001b[0m     values, mutated \u001b[38;5;241m=\u001b[39m \u001b[38;5;28;43mself\u001b[39;49m\u001b[38;5;241;43m.\u001b[39;49m\u001b[43m_grouper\u001b[49m\u001b[38;5;241;43m.\u001b[39;49m\u001b[43mapply_groupwise\u001b[49m\u001b[43m(\u001b[49m\u001b[43mf\u001b[49m\u001b[43m,\u001b[49m\u001b[43m \u001b[49m\u001b[43mdata\u001b[49m\u001b[43m,\u001b[49m\u001b[43m \u001b[49m\u001b[38;5;28;43mself\u001b[39;49m\u001b[38;5;241;43m.\u001b[39;49m\u001b[43maxis\u001b[49m\u001b[43m)\u001b[49m\n\u001b[0;32m   1886\u001b[0m     \u001b[38;5;28;01mif\u001b[39;00m not_indexed_same \u001b[38;5;129;01mis\u001b[39;00m \u001b[38;5;28;01mNone\u001b[39;00m:\n\u001b[0;32m   1887\u001b[0m         not_indexed_same \u001b[38;5;241m=\u001b[39m mutated\n",
      "File \u001b[1;32m~\\Documents\\GitHub\\Algorithmischer-Handel\\venv\\Lib\\site-packages\\pandas\\core\\groupby\\ops.py:919\u001b[0m, in \u001b[0;36mBaseGrouper.apply_groupwise\u001b[1;34m(self, f, data, axis)\u001b[0m\n\u001b[0;32m    917\u001b[0m \u001b[38;5;66;03m# group might be modified\u001b[39;00m\n\u001b[0;32m    918\u001b[0m group_axes \u001b[38;5;241m=\u001b[39m group\u001b[38;5;241m.\u001b[39maxes\n\u001b[1;32m--> 919\u001b[0m res \u001b[38;5;241m=\u001b[39m \u001b[43mf\u001b[49m\u001b[43m(\u001b[49m\u001b[43mgroup\u001b[49m\u001b[43m)\u001b[49m\n\u001b[0;32m    920\u001b[0m \u001b[38;5;28;01mif\u001b[39;00m \u001b[38;5;129;01mnot\u001b[39;00m mutated \u001b[38;5;129;01mand\u001b[39;00m \u001b[38;5;129;01mnot\u001b[39;00m _is_indexed_like(res, group_axes, axis):\n\u001b[0;32m    921\u001b[0m     mutated \u001b[38;5;241m=\u001b[39m \u001b[38;5;28;01mTrue\u001b[39;00m\n",
      "Cell \u001b[1;32mIn[3], line 7\u001b[0m, in \u001b[0;36mcalculate_indicators\u001b[1;34m(data)\u001b[0m\n\u001b[0;32m      5\u001b[0m data[\u001b[38;5;124m'\u001b[39m\u001b[38;5;124mEMA_20\u001b[39m\u001b[38;5;124m'\u001b[39m] \u001b[38;5;241m=\u001b[39m data[\u001b[38;5;124m'\u001b[39m\u001b[38;5;124mClose\u001b[39m\u001b[38;5;124m'\u001b[39m]\u001b[38;5;241m.\u001b[39mewm(span\u001b[38;5;241m=\u001b[39m\u001b[38;5;241m20\u001b[39m, adjust\u001b[38;5;241m=\u001b[39m\u001b[38;5;28;01mFalse\u001b[39;00m)\u001b[38;5;241m.\u001b[39mmean()\n\u001b[0;32m      6\u001b[0m data[\u001b[38;5;124m'\u001b[39m\u001b[38;5;124mEMA_50\u001b[39m\u001b[38;5;124m'\u001b[39m] \u001b[38;5;241m=\u001b[39m data[\u001b[38;5;124m'\u001b[39m\u001b[38;5;124mClose\u001b[39m\u001b[38;5;124m'\u001b[39m]\u001b[38;5;241m.\u001b[39mewm(span\u001b[38;5;241m=\u001b[39m\u001b[38;5;241m50\u001b[39m, adjust\u001b[38;5;241m=\u001b[39m\u001b[38;5;28;01mFalse\u001b[39;00m)\u001b[38;5;241m.\u001b[39mmean()\n\u001b[1;32m----> 7\u001b[0m data[\u001b[38;5;124m'\u001b[39m\u001b[38;5;124mHMA_20\u001b[39m\u001b[38;5;124m'\u001b[39m] \u001b[38;5;241m=\u001b[39m \u001b[43mHMA\u001b[49m(data[\u001b[38;5;124m'\u001b[39m\u001b[38;5;124mClose\u001b[39m\u001b[38;5;124m'\u001b[39m], \u001b[38;5;241m20\u001b[39m)\n\u001b[0;32m      8\u001b[0m data[\u001b[38;5;124m'\u001b[39m\u001b[38;5;124mHMA_50\u001b[39m\u001b[38;5;124m'\u001b[39m] \u001b[38;5;241m=\u001b[39m HMA(data[\u001b[38;5;124m'\u001b[39m\u001b[38;5;124mClose\u001b[39m\u001b[38;5;124m'\u001b[39m], \u001b[38;5;241m50\u001b[39m)\n\u001b[0;32m      9\u001b[0m \u001b[38;5;28;01mreturn\u001b[39;00m data\n",
      "\u001b[1;31mNameError\u001b[0m: name 'HMA' is not defined"
     ]
    }
   ],
   "source": [
    "# Funktion zur Berechnung der technischen Indikatoren\n",
    "def calculate_indicators(data):\n",
    "    data['SMA_20'] = data['Close'].rolling(window=20).mean()\n",
    "    data['SMA_50'] = data['Close'].rolling(window=50).mean()\n",
    "    data['EMA_20'] = data['Close'].ewm(span=20, adjust=False).mean()\n",
    "    data['EMA_50'] = data['Close'].ewm(span=50, adjust=False).mean()\n",
    "    data['HMA_20'] = HMA(data['Close'], 20)\n",
    "    data['HMA_50'] = HMA(data['Close'], 50)\n",
    "    return data\n",
    "\n",
    "# Anwendung der Indikatoren auf alle Aktien\n",
    "data_all = data_all.groupby('Stock').apply(calculate_indicators)\n",
    "\n",
    "# Daten nach der Berechnung der Indikatoren ansehen\n",
    "print(data_all.head())\n"
   ]
  },
  {
   "cell_type": "code",
   "execution_count": null,
   "id": "de4867cc-661d-418b-8b1b-8987e61443be",
   "metadata": {},
   "outputs": [],
   "source": [
    "# Feature Engineering: Weitere Indikatoren und Zielvariable hinzufügen\n",
    "def add_features(data):\n",
    "    data['Target'] = np.where(data['Close'].shift(-1) > data['Close'], 1, 0)\n",
    "    return data\n",
    "\n",
    "data_all = data_all.groupby('Stock').apply(add_features)\n",
    "\n",
    "# Dropping NaN Werte nach Indikatorberechnung\n",
    "data_all = data_all.dropna()\n",
    "\n",
    "# Features und Zielvariable definieren\n",
    "features = ['SMA_20', 'SMA_50', 'EMA_20', 'EMA_50', 'HMA_20', 'HMA_50']\n",
    "X = data_all[features]\n",
    "y = data_all['Target']\n",
    "\n",
    "# Training und Test-Datensätze aufteilen\n",
    "X_train, X_test, y_train, y_test = train_test_split(X, y, test_size=0.2, shuffle=False)\n",
    "\n",
    "# Random Forest Modell trainieren\n",
    "model = RandomForestClassifier(n_estimators=100, random_state=42)\n",
    "model.fit(X_train, y_train)\n",
    "\n",
    "# Modell auf Testdaten evaluieren\n",
    "y_pred = model.predict(X_test)\n",
    "accuracy = accuracy_score(y_test, y_pred)\n",
    "print(f'Accuracy: {accuracy:.2f}')\n"
   ]
  },
  {
   "cell_type": "code",
   "execution_count": null,
   "id": "0657a2e5-2ccb-49e7-bee5-22888b09274a",
   "metadata": {},
   "outputs": [],
   "source": [
    "# Daten für eine einzelne Aktie zum Testen herunterladen\n",
    "test_data = yf.download(\"AAPL\", start=\"2023-01-01\", end=\"2024-01-01\")\n",
    "test_data = calculate_indicators(test_data)\n",
    "test_data = add_features(test_data)\n",
    "test_data = test_data.dropna()\n",
    "\n",
    "# Vorhersagen treffen\n",
    "X_single = test_data[features]\n",
    "predictions = model.predict(X_single)\n",
    "\n",
    "# Ergebnisse visualisieren\n",
    "plt.figure(figsize=(14, 7))\n",
    "plt.plot(test_data.index, test_data['Close'], label='Close Price', color='black')\n",
    "plt.scatter(test_data.index[predictions == 1], test_data['Close'][predictions == 1], label='Buy Signal', marker='^', color='blue')\n",
    "plt.scatter(test_data.index[predictions == 0], test_data['Close'][predictions == 0], label='Sell Signal', marker='v', color='orange')\n",
    "plt.title('Buy and Sell Signals for AAPL')\n",
    "plt.xlabel('Date')\n",
    "plt.ylabel('Price')\n",
    "plt.legend()\n",
    "plt.show()\n"
   ]
  }
 ],
 "metadata": {
  "kernelspec": {
   "display_name": "Python 3 (ipykernel)",
   "language": "python",
   "name": "python3"
  },
  "language_info": {
   "codemirror_mode": {
    "name": "ipython",
    "version": 3
   },
   "file_extension": ".py",
   "mimetype": "text/x-python",
   "name": "python",
   "nbconvert_exporter": "python",
   "pygments_lexer": "ipython3",
   "version": "3.12.4"
  }
 },
 "nbformat": 4,
 "nbformat_minor": 5
}
